{
 "cells": [
  {
   "attachments": {},
   "cell_type": "markdown",
   "metadata": {},
   "source": [
    "# Experiment 8\n",
    "\n",
    "Experiment 8 aims to examine the stability of different control method with respect to starting position. The experiment will use the same methods as most previous ones however there will be greater examination of end number of links involved for each swarm control method."
   ]
  },
  {
   "cell_type": "code",
   "execution_count": 1,
   "metadata": {},
   "outputs": [],
   "source": [
    "## Imports\n",
    "\n",
    "import numpy as np\n",
    "import pandas as pd\n",
    "import seaborn as sns\n",
    "import scipy.stats as stats\n",
    "import scikit_posthocs as sp\n",
    "import matplotlib.pyplot as plt\n",
    "import networkx as nx\n",
    "\n",
    "import logging\n",
    "\n",
    "from src.simulation import Simulation\n",
    "from src.network import Network\n",
    "from src.render import Render\n",
    "\n",
    "logging.disable(logging.CRITICAL)"
   ]
  },
  {
   "cell_type": "code",
   "execution_count": 2,
   "metadata": {},
   "outputs": [
    {
     "name": "stdout",
     "output_type": "stream",
     "text": [
      "Start Pool - Net3:  ['15', '35', '131', '166', '167', '203', '219', '225', '231', '243', '253', 'River', 'Lake', '1', '2', '3']\n",
      "Number of Start Nodes - Net3:  16\n",
      "Number of Nodes - Net3:  97\n",
      "Number of Links - Net3:  119\n",
      "Start Pool - 250701 K709vs2-Export:  ['A2148', 'A3007', 'A3018', 'A5065', 'A5071', 'A5078', 'A5153', 'A5169', 'A5174', 'A5175', 'A5178', 'A5183', 'A5184', 'A5185', 'A5187', 'A5189', 'A5191', 'A5197', 'A5200', 'A5202', 'A5205', 'A5245', 'A5247', 'A5255', 'A5271', 'A5279', 'A5283', 'A5285', 'A5306', 'A5311', 'A5323', 'A5342', 'A5343', 'A5348', 'A5351', 'A5354', 'A5357', 'A5376', 'A5377', 'A5379', 'A5383', 'A5387', 'A5390', 'A5391', 'A5394', 'A5396', 'A5398', 'A5400', 'A5404', 'A5407', 'A5408', 'A5412', 'A5423', 'A5424', 'A5426', 'A5428', 'A5430', 'A5431', 'A5435', 'A5440', 'A5448', 'A5450', 'A5451', 'A5460', 'A5462', 'A5471', 'A5473', 'A5474', 'A5480', 'A5481', 'A5485', 'A5502', 'A5510', 'A5513', 'A5515', 'A5701', 'A5708', 'AN-1871', 'N-0457', 'N-0458', 'N-0459', 'N-0460', 'N-0461', 'N-0462', 'N-0463', 'N-0464', 'N-0465', 'N-0466', 'N-0467', 'N-0468', 'N-0469', 'N-0470', 'N-0471', 'N-0472', 'N-0473', 'N-0474', 'N-0475', 'N-0476', 'N-0477', 'N-0478', 'N-0479', 'N-0480', 'N-0481', 'N-0485', 'N-0486', 'N-0487', 'N-0489', 'N-0491', 'N-0495', 'N-0496', 'N-0497', 'N-0498', 'N-0499', 'N-0504', 'N-0505', 'N-0506', 'N-0507', 'N-0508', 'N-0509', 'N-0512', 'N-0513', 'N-2922', 'N-2924', 'N-3345']\n",
      "Number of Start Nodes - 250701 K709vs2-Export:  124\n",
      "Number of Nodes - 250701 K709vs2-Export:  510\n",
      "Number of Links - 250701 K709vs2-Export:  559\n",
      "Start Pool - Net6:  ['JUNCTION-12', 'JUNCTION-16', 'JUNCTION-20', 'JUNCTION-21', 'JUNCTION-38', 'JUNCTION-39', 'JUNCTION-40', 'JUNCTION-41', 'JUNCTION-45', 'JUNCTION-53', 'JUNCTION-74', 'JUNCTION-75', 'JUNCTION-81', 'JUNCTION-88', 'JUNCTION-96', 'JUNCTION-101', 'JUNCTION-113', 'JUNCTION-116', 'JUNCTION-138', 'JUNCTION-147', 'JUNCTION-150', 'JUNCTION-161', 'JUNCTION-178', 'JUNCTION-189', 'JUNCTION-204', 'JUNCTION-210', 'JUNCTION-218', 'JUNCTION-233', 'JUNCTION-234', 'JUNCTION-235', 'JUNCTION-247', 'JUNCTION-252', 'JUNCTION-255', 'JUNCTION-264', 'JUNCTION-266', 'JUNCTION-272', 'JUNCTION-276', 'JUNCTION-305', 'JUNCTION-311', 'JUNCTION-313', 'JUNCTION-332', 'JUNCTION-334', 'JUNCTION-341', 'JUNCTION-343', 'JUNCTION-346', 'JUNCTION-350', 'JUNCTION-351', 'JUNCTION-360', 'JUNCTION-367', 'JUNCTION-369', 'JUNCTION-371', 'JUNCTION-374', 'JUNCTION-392', 'JUNCTION-405', 'JUNCTION-409', 'JUNCTION-411', 'JUNCTION-419', 'JUNCTION-422', 'JUNCTION-431', 'JUNCTION-446', 'JUNCTION-455', 'JUNCTION-461', 'JUNCTION-466', 'JUNCTION-470', 'JUNCTION-481', 'JUNCTION-485', 'JUNCTION-489', 'JUNCTION-502', 'JUNCTION-511', 'JUNCTION-521', 'JUNCTION-523', 'JUNCTION-528', 'JUNCTION-537', 'JUNCTION-548', 'JUNCTION-577', 'JUNCTION-583', 'JUNCTION-589', 'JUNCTION-590', 'JUNCTION-593', 'JUNCTION-601', 'JUNCTION-604', 'JUNCTION-607', 'JUNCTION-608', 'JUNCTION-609', 'JUNCTION-612', 'JUNCTION-614', 'JUNCTION-627', 'JUNCTION-628', 'JUNCTION-629', 'JUNCTION-631', 'JUNCTION-638', 'JUNCTION-649', 'JUNCTION-666', 'JUNCTION-671', 'JUNCTION-684', 'JUNCTION-698', 'JUNCTION-704', 'JUNCTION-711', 'JUNCTION-720', 'JUNCTION-727', 'JUNCTION-758', 'JUNCTION-760', 'JUNCTION-762', 'JUNCTION-772', 'JUNCTION-773', 'JUNCTION-778', 'JUNCTION-780', 'JUNCTION-785', 'JUNCTION-786', 'JUNCTION-790', 'JUNCTION-792', 'JUNCTION-807', 'JUNCTION-828', 'JUNCTION-843', 'JUNCTION-852', 'JUNCTION-855', 'JUNCTION-877', 'JUNCTION-880', 'JUNCTION-881', 'JUNCTION-887', 'JUNCTION-894', 'JUNCTION-896', 'JUNCTION-922', 'JUNCTION-925', 'JUNCTION-952', 'JUNCTION-959', 'JUNCTION-965', 'JUNCTION-974', 'JUNCTION-975', 'JUNCTION-1000', 'JUNCTION-1012', 'JUNCTION-1042', 'JUNCTION-1070', 'JUNCTION-1072', 'JUNCTION-1075', 'JUNCTION-1080', 'JUNCTION-1081', 'JUNCTION-1086', 'JUNCTION-1093', 'JUNCTION-1097', 'JUNCTION-1104', 'JUNCTION-1118', 'JUNCTION-1124', 'JUNCTION-1133', 'JUNCTION-1149', 'JUNCTION-1154', 'JUNCTION-1156', 'JUNCTION-1168', 'JUNCTION-1170', 'JUNCTION-1184', 'JUNCTION-1190', 'JUNCTION-1207', 'JUNCTION-1217', 'JUNCTION-1234', 'JUNCTION-1235', 'JUNCTION-1236', 'JUNCTION-1242', 'JUNCTION-1251', 'JUNCTION-1252', 'JUNCTION-1254', 'JUNCTION-1258', 'JUNCTION-1262', 'JUNCTION-1269', 'JUNCTION-1296', 'JUNCTION-1297', 'JUNCTION-1312', 'JUNCTION-1316', 'JUNCTION-1327', 'JUNCTION-1329', 'JUNCTION-1333', 'JUNCTION-1337', 'JUNCTION-1346', 'JUNCTION-1350', 'JUNCTION-1352', 'JUNCTION-1358', 'JUNCTION-1359', 'JUNCTION-1361', 'JUNCTION-1364', 'JUNCTION-1366', 'JUNCTION-1376', 'JUNCTION-1384', 'JUNCTION-1385', 'JUNCTION-1387', 'JUNCTION-1395', 'JUNCTION-1396', 'JUNCTION-1399', 'JUNCTION-1401', 'JUNCTION-1407', 'JUNCTION-1408', 'JUNCTION-1419', 'JUNCTION-1425', 'JUNCTION-1432', 'JUNCTION-1447', 'JUNCTION-1453', 'JUNCTION-1459', 'JUNCTION-1462', 'JUNCTION-1488', 'JUNCTION-1492', 'JUNCTION-1503', 'JUNCTION-1507', 'JUNCTION-1509', 'JUNCTION-1514', 'JUNCTION-1516', 'JUNCTION-1517', 'JUNCTION-1526', 'JUNCTION-1528', 'JUNCTION-1534', 'JUNCTION-1544', 'JUNCTION-1558', 'JUNCTION-1563', 'JUNCTION-1564', 'JUNCTION-1572', 'JUNCTION-1573', 'JUNCTION-1583', 'JUNCTION-1586', 'JUNCTION-1587', 'JUNCTION-1600', 'JUNCTION-1601', 'JUNCTION-1603', 'JUNCTION-1611', 'JUNCTION-1624', 'JUNCTION-1628', 'JUNCTION-1632', 'JUNCTION-1637', 'JUNCTION-1643', 'JUNCTION-1670', 'JUNCTION-1712', 'JUNCTION-1726', 'JUNCTION-1742', 'JUNCTION-1780', 'JUNCTION-1803', 'JUNCTION-1819', 'JUNCTION-1826', 'JUNCTION-1835', 'JUNCTION-1842', 'JUNCTION-1847', 'JUNCTION-1863', 'JUNCTION-1869', 'JUNCTION-1870', 'JUNCTION-1873', 'JUNCTION-1876', 'JUNCTION-1882', 'JUNCTION-1890', 'JUNCTION-1891', 'JUNCTION-1896', 'JUNCTION-1910', 'JUNCTION-1911', 'JUNCTION-1916', 'JUNCTION-1921', 'JUNCTION-1923', 'JUNCTION-1926', 'JUNCTION-1940', 'JUNCTION-1943', 'JUNCTION-1949', 'JUNCTION-1956', 'JUNCTION-1958', 'JUNCTION-1960', 'JUNCTION-1965', 'JUNCTION-1966', 'JUNCTION-1979', 'JUNCTION-1986', 'JUNCTION-1999', 'JUNCTION-2004', 'JUNCTION-2005', 'JUNCTION-2024', 'JUNCTION-2027', 'JUNCTION-2069', 'JUNCTION-2075', 'JUNCTION-2087', 'JUNCTION-2089', 'JUNCTION-2091', 'JUNCTION-2104', 'JUNCTION-2121', 'JUNCTION-2125', 'JUNCTION-2139', 'JUNCTION-2143', 'JUNCTION-2150', 'JUNCTION-2153', 'JUNCTION-2167', 'JUNCTION-2170', 'JUNCTION-2189', 'JUNCTION-2200', 'JUNCTION-2210', 'JUNCTION-2211', 'JUNCTION-2213', 'JUNCTION-2269', 'JUNCTION-2271', 'JUNCTION-2273', 'JUNCTION-2292', 'JUNCTION-2294', 'JUNCTION-2299', 'JUNCTION-2312', 'JUNCTION-2322', 'JUNCTION-2327', 'JUNCTION-2333', 'JUNCTION-2343', 'JUNCTION-2345', 'JUNCTION-2347', 'JUNCTION-2350', 'JUNCTION-2356', 'JUNCTION-2363', 'JUNCTION-2364', 'JUNCTION-2377', 'JUNCTION-2380', 'JUNCTION-2395', 'JUNCTION-2402', 'JUNCTION-2403', 'JUNCTION-2415', 'JUNCTION-2420', 'JUNCTION-2423', 'JUNCTION-2441', 'JUNCTION-2456', 'JUNCTION-2462', 'JUNCTION-2467', 'JUNCTION-2490', 'JUNCTION-2503', 'JUNCTION-2521', 'JUNCTION-2525', 'JUNCTION-2526', 'JUNCTION-2530', 'JUNCTION-2535', 'JUNCTION-2537', 'JUNCTION-2540', 'JUNCTION-2559', 'JUNCTION-2577', 'JUNCTION-2589', 'JUNCTION-2597', 'JUNCTION-2598', 'JUNCTION-2599', 'JUNCTION-2603', 'JUNCTION-2605', 'JUNCTION-2613', 'JUNCTION-2618', 'JUNCTION-2626', 'JUNCTION-2628', 'JUNCTION-2635', 'JUNCTION-2638', 'JUNCTION-2645', 'JUNCTION-2652', 'JUNCTION-2653', 'JUNCTION-2654', 'JUNCTION-2655', 'JUNCTION-2657', 'JUNCTION-2661', 'JUNCTION-2668', 'JUNCTION-2670', 'JUNCTION-2692', 'JUNCTION-2693', 'JUNCTION-2695', 'JUNCTION-2698', 'JUNCTION-2699', 'JUNCTION-2710', 'JUNCTION-2714', 'JUNCTION-2743', 'JUNCTION-2757', 'JUNCTION-2763', 'JUNCTION-2765', 'JUNCTION-2766', 'JUNCTION-2771', 'JUNCTION-2776', 'JUNCTION-2780', 'JUNCTION-2792', 'JUNCTION-2797', 'JUNCTION-2801', 'JUNCTION-2806', 'JUNCTION-2807', 'JUNCTION-2808', 'JUNCTION-2810', 'JUNCTION-2812', 'JUNCTION-2814', 'JUNCTION-2816', 'JUNCTION-2820', 'JUNCTION-2823', 'JUNCTION-2826', 'JUNCTION-2834', 'JUNCTION-2841', 'JUNCTION-2849', 'JUNCTION-2860', 'JUNCTION-2867', 'JUNCTION-2881', 'JUNCTION-2883', 'JUNCTION-2885', 'JUNCTION-2895', 'JUNCTION-2910', 'JUNCTION-2918', 'JUNCTION-2920', 'JUNCTION-2921', 'JUNCTION-2929', 'JUNCTION-2933', 'JUNCTION-2942', 'JUNCTION-2948', 'JUNCTION-2951', 'JUNCTION-2954', 'JUNCTION-2956', 'JUNCTION-2962', 'JUNCTION-2999', 'JUNCTION-3011', 'JUNCTION-3014', 'JUNCTION-3015', 'JUNCTION-3022', 'JUNCTION-3033', 'JUNCTION-3052', 'JUNCTION-3074', 'JUNCTION-3095', 'JUNCTION-3101', 'JUNCTION-3106', 'JUNCTION-3114', 'JUNCTION-3135', 'JUNCTION-3141', 'JUNCTION-3149', 'JUNCTION-3154', 'JUNCTION-3158', 'JUNCTION-3165', 'JUNCTION-3167', 'JUNCTION-3168', 'JUNCTION-3171', 'JUNCTION-3172', 'JUNCTION-3178', 'JUNCTION-3182', 'JUNCTION-3184', 'JUNCTION-3185', 'JUNCTION-3197', 'JUNCTION-3198', 'JUNCTION-3201', 'JUNCTION-3226', 'JUNCTION-3229', 'JUNCTION-3236', 'JUNCTION-3252', 'JUNCTION-3258', 'JUNCTION-3260', 'JUNCTION-3265', 'JUNCTION-3276', 'JUNCTION-3280', 'JUNCTION-3299', 'JUNCTION-3308', 'JUNCTION-3311', 'TANK-3325', 'TANK-3327', 'TANK-3330', 'TANK-3331', 'TANK-3332', 'TANK-3333', 'TANK-3334', 'TANK-3335', 'TANK-3336', 'TANK-3337', 'TANK-3340', 'TANK-3341', 'TANK-3342', 'TANK-3343', 'TANK-3344', 'TANK-3345', 'TANK-3346', 'TANK-3347', 'TANK-3348', 'TANK-3349', 'TANK-3350', 'TANK-3351', 'TANK-3352', 'TANK-3353', 'TANK-3354', 'TANK-3355', 'TANK-3356', 'TANK-3357']\n",
      "Number of Start Nodes - Net6:  464\n",
      "Number of Nodes - Net6:  3356\n",
      "Number of Links - Net6:  3830\n"
     ]
    }
   ],
   "source": [
    "network_file_1 = \"networks/Net3.inp\"\n",
    "network_file_2 = \"networks/250701 K709vs2-Export.inp\"\n",
    "network_file_3 = \"networks/Net6.inp\"\n",
    "\n",
    "env1 = Network(network_file_1)\n",
    "env2 = Network(network_file_2)\n",
    "env3 = Network(network_file_3)\n",
    "\n",
    "g_env1 = env1.water_network_model.to_graph().to_undirected()\n",
    "g_env2 = env2.water_network_model.to_graph().to_undirected()\n",
    "g_env3 = env3.water_network_model.to_graph().to_undirected()\n",
    "\n",
    "d_env1 = g_env1.degree\n",
    "d_env2 = g_env2.degree\n",
    "d_env3 = g_env3.degree\n",
    "\n",
    "env1_start_pool = [node for node, degree in d_env1 if degree == 1]\n",
    "env2_start_pool = [node for node, degree in d_env2 if degree == 1]\n",
    "env3_start_pool = [node for node, degree in d_env3 if degree == 1]\n",
    "\n",
    "env1_num_links = env1.graph_num_links\n",
    "env2_num_links = env2.graph_num_links\n",
    "env3_num_links = env3.graph_num_links\n",
    "\n",
    "print(\"Start Pool - Net3: \", env1_start_pool)\n",
    "print(\"Number of Start Nodes - Net3: \", len(env1_start_pool))\n",
    "print(\"Number of Nodes - Net3: \", env1.graph_num_nodes)\n",
    "print(\"Number of Links - Net3: \", env1.graph_num_links)\n",
    "\n",
    "print(\"Start Pool - 250701 K709vs2-Export: \", env2_start_pool)\n",
    "print(\"Number of Start Nodes - 250701 K709vs2-Export: \", len(env2_start_pool))\n",
    "print(\"Number of Nodes - 250701 K709vs2-Export: \", env2.graph_num_nodes)\n",
    "print(\"Number of Links - 250701 K709vs2-Export: \", env2.graph_num_links)\n",
    "\n",
    "print(\"Start Pool - Net6: \", env3_start_pool)\n",
    "print(\"Number of Start Nodes - Net6: \", len(env3_start_pool))\n",
    "print(\"Number of Nodes - Net6: \", env3.graph_num_nodes)\n",
    "print(\"Number of Links - Net6: \", env3.graph_num_links)"
   ]
  },
  {
   "cell_type": "code",
   "execution_count": 3,
   "metadata": {},
   "outputs": [],
   "source": [
    "def run_simulation_batch(env, num_agents, start_nodes, filepath, max_turns=100):\n",
    "    print(\"Starting Simulation Batch - \", filepath)\n",
    "    print(\"Number of Agents: \", num_agents)\n",
    "    print(\"Start Nodes: \", start_nodes)\n",
    "    print(\"Max Turns: \", max_turns)\n",
    "    \n",
    "    # Run the simulations for no swarm control\n",
    "    path = f'{filepath}/NoSwarm'\n",
    "    simulations_1 = []\n",
    "    for node in start_nodes:\n",
    "        print(\"Starting No Swarm Simulation from Start Node: \", node)\n",
    "        sim = Simulation(env, num_agents, swarm=False, start_positions=[node], filepath=path)\n",
    "        simulations_1.append((node, sim.path_to_results_directory))\n",
    "        sim.run(max_turns=max_turns)\n",
    "    yield simulations_1\n",
    "    \n",
    "    # Run the simulations for naive swarm control\n",
    "    path = f'{filepath}/NaiveSwarm'\n",
    "    swarm_config = {'swarm': True, 'swarm_type': 'naive'}\n",
    "    simulations_2 = []\n",
    "    for node in start_nodes:\n",
    "        print(\"Starting Naive Swarm Simulation from Start Node: \", node)\n",
    "        sim = Simulation(env, num_agents, swarm=True, swarm_config=swarm_config, start_positions=[node], filepath=path)\n",
    "        simulations_2.append((node, sim.path_to_results_directory))\n",
    "        sim.run(max_turns=max_turns)\n",
    "    yield simulations_2\n",
    "    \n",
    "    # Run the simulations for informed mean swarm control\n",
    "    path = f'{filepath}/InformedMeanSwarm'\n",
    "    swarm_config = {'swarm': True, 'swarm_type': 'informed', 'allocation_threshold': 'mean'}\n",
    "    simulations_3 = []\n",
    "    for node in start_nodes:\n",
    "        print(\"Starting Informed Mean Swarm Simulation from Start Node: \", node)\n",
    "        sim = Simulation(env, num_agents, swarm=True, swarm_config=swarm_config, start_positions=[node], filepath=path)\n",
    "        simulations_3.append((node, sim.path_to_results_directory))\n",
    "        sim.run(max_turns=max_turns)    \n",
    "    yield simulations_3\n",
    "    \n",
    "    # Run the simulations for informed median swarm control\n",
    "    path = f'{filepath}/InformedMedianSwarm'\n",
    "    swarm_config = {'swarm': True, 'swarm_type': 'informed', 'allocation_threshold': 'median'}\n",
    "    simulations_4 = []\n",
    "    for node in start_nodes:\n",
    "        print(\"Starting Informed Median Swarm Simulation from Start Node: \", node)\n",
    "        sim = Simulation(env, num_agents, swarm=True, swarm_config=swarm_config, start_positions=[node], filepath=path)\n",
    "        simulations_4.append((node, sim.path_to_results_directory))\n",
    "        sim.run(max_turns=max_turns)\n",
    "    yield simulations_4"
   ]
  },
  {
   "attachments": {},
   "cell_type": "markdown",
   "metadata": {},
   "source": [
    "## Simulations"
   ]
  },
  {
   "attachments": {},
   "cell_type": "markdown",
   "metadata": {},
   "source": [
    "### Simulation 1 - Environment 1"
   ]
  },
  {
   "cell_type": "code",
   "execution_count": 4,
   "metadata": {},
   "outputs": [
    {
     "name": "stdout",
     "output_type": "stream",
     "text": [
      "Start Nodes:  ['15', '35', '131', '166', '167', '203', '219', '225', '231', '243', '253', 'River', 'Lake', '1', '2']\n"
     ]
    }
   ],
   "source": [
    "start_nodes = env1_start_pool[:15]\n",
    "num_agents = 10\n",
    "max_turns = 100\n",
    "filepath = \"notable-results/Experiment-8/Env1\"\n",
    "\n",
    "print(\"Start Nodes: \", start_nodes)"
   ]
  },
  {
   "cell_type": "code",
   "execution_count": 5,
   "metadata": {},
   "outputs": [
    {
     "name": "stdout",
     "output_type": "stream",
     "text": [
      "Starting Simulation Batch -  notable-results/Experiment-8/Env1\n",
      "Number of Agents:  10\n",
      "Start Nodes:  ['15', '35', '131', '166', '167', '203', '219', '225', '231', '243', '253', 'River', 'Lake', '1', '2']\n",
      "Max Turns:  100\n",
      "Starting No Swarm Simulation from Start Node:  15\n",
      "Starting No Swarm Simulation from Start Node:  35\n",
      "Starting No Swarm Simulation from Start Node:  131\n",
      "Starting No Swarm Simulation from Start Node:  166\n",
      "Starting No Swarm Simulation from Start Node:  167\n",
      "Starting No Swarm Simulation from Start Node:  203\n",
      "Starting No Swarm Simulation from Start Node:  219\n",
      "Starting No Swarm Simulation from Start Node:  225\n",
      "Starting No Swarm Simulation from Start Node:  231\n",
      "Starting No Swarm Simulation from Start Node:  243\n",
      "Starting No Swarm Simulation from Start Node:  253\n",
      "Starting No Swarm Simulation from Start Node:  River\n",
      "Starting No Swarm Simulation from Start Node:  Lake\n",
      "Starting No Swarm Simulation from Start Node:  1\n",
      "Starting No Swarm Simulation from Start Node:  2\n",
      "Starting Naive Swarm Simulation from Start Node:  15\n",
      "Starting Naive Swarm Simulation from Start Node:  35\n",
      "Starting Naive Swarm Simulation from Start Node:  131\n",
      "Starting Naive Swarm Simulation from Start Node:  166\n",
      "Starting Naive Swarm Simulation from Start Node:  167\n",
      "Starting Naive Swarm Simulation from Start Node:  203\n",
      "Starting Naive Swarm Simulation from Start Node:  219\n",
      "Starting Naive Swarm Simulation from Start Node:  225\n",
      "Starting Naive Swarm Simulation from Start Node:  231\n",
      "Starting Naive Swarm Simulation from Start Node:  243\n",
      "Starting Naive Swarm Simulation from Start Node:  253\n",
      "Starting Naive Swarm Simulation from Start Node:  River\n",
      "Starting Naive Swarm Simulation from Start Node:  Lake\n",
      "Starting Naive Swarm Simulation from Start Node:  1\n",
      "Starting Naive Swarm Simulation from Start Node:  2\n",
      "Starting Informed Mean Swarm Simulation from Start Node:  15\n",
      "Starting Informed Mean Swarm Simulation from Start Node:  35\n",
      "Starting Informed Mean Swarm Simulation from Start Node:  131\n",
      "Starting Informed Mean Swarm Simulation from Start Node:  166\n",
      "Starting Informed Mean Swarm Simulation from Start Node:  167\n",
      "Starting Informed Mean Swarm Simulation from Start Node:  203\n",
      "Starting Informed Mean Swarm Simulation from Start Node:  219\n",
      "Starting Informed Mean Swarm Simulation from Start Node:  225\n",
      "Starting Informed Mean Swarm Simulation from Start Node:  231\n",
      "Starting Informed Mean Swarm Simulation from Start Node:  243\n",
      "Starting Informed Mean Swarm Simulation from Start Node:  253\n",
      "Starting Informed Mean Swarm Simulation from Start Node:  River\n",
      "Starting Informed Mean Swarm Simulation from Start Node:  Lake\n",
      "Starting Informed Mean Swarm Simulation from Start Node:  1\n",
      "Starting Informed Mean Swarm Simulation from Start Node:  2\n",
      "Starting Informed Median Swarm Simulation from Start Node:  15\n",
      "Starting Informed Median Swarm Simulation from Start Node:  35\n",
      "Starting Informed Median Swarm Simulation from Start Node:  131\n",
      "Starting Informed Median Swarm Simulation from Start Node:  166\n",
      "Starting Informed Median Swarm Simulation from Start Node:  167\n",
      "Starting Informed Median Swarm Simulation from Start Node:  203\n",
      "Starting Informed Median Swarm Simulation from Start Node:  219\n",
      "Starting Informed Median Swarm Simulation from Start Node:  225\n",
      "Starting Informed Median Swarm Simulation from Start Node:  231\n",
      "Starting Informed Median Swarm Simulation from Start Node:  243\n",
      "Starting Informed Median Swarm Simulation from Start Node:  253\n",
      "Starting Informed Median Swarm Simulation from Start Node:  River\n",
      "Starting Informed Median Swarm Simulation from Start Node:  Lake\n",
      "Starting Informed Median Swarm Simulation from Start Node:  1\n",
      "Starting Informed Median Swarm Simulation from Start Node:  2\n"
     ]
    }
   ],
   "source": [
    "simulations_8_1 = run_simulation_batch(env1, num_agents, start_nodes, filepath, max_turns=max_turns)\n",
    "\n",
    "no_swarm_env1 = next(simulations_8_1)\n",
    "naive_swarm_env1 = next(simulations_8_1)\n",
    "informed_mean_swarm_env1 = next(simulations_8_1)\n",
    "informed_median_swarm_env1 = next(simulations_8_1)"
   ]
  },
  {
   "cell_type": "code",
   "execution_count": 6,
   "metadata": {},
   "outputs": [],
   "source": [
    "# Check that the number of simulations is correct\n",
    "assert len(no_swarm_env1) == len(start_nodes)\n",
    "assert len(naive_swarm_env1) == len(start_nodes)\n",
    "assert len(informed_mean_swarm_env1) == len(start_nodes)\n",
    "assert len(informed_median_swarm_env1) == len(start_nodes)"
   ]
  },
  {
   "attachments": {},
   "cell_type": "markdown",
   "metadata": {},
   "source": [
    "### Simulation 2 - Environment 2"
   ]
  },
  {
   "cell_type": "code",
   "execution_count": 7,
   "metadata": {},
   "outputs": [
    {
     "name": "stdout",
     "output_type": "stream",
     "text": [
      "Start Nodes:  ['A2148', 'A3007', 'A3018', 'A5065', 'A5071', 'A5078', 'A5153', 'A5169', 'A5174', 'A5175', 'A5178', 'A5183', 'A5184', 'A5185', 'A5187']\n"
     ]
    }
   ],
   "source": [
    "start_nodes = env2_start_pool[:15]\n",
    "num_agents = 10\n",
    "max_turns = 100\n",
    "filepath = \"notable-results/Experiment-8/Env2\"\n",
    "\n",
    "print(\"Start Nodes: \", start_nodes)"
   ]
  },
  {
   "cell_type": "code",
   "execution_count": 8,
   "metadata": {},
   "outputs": [
    {
     "name": "stdout",
     "output_type": "stream",
     "text": [
      "Starting Simulation Batch -  notable-results/Experiment-8/Env2\n",
      "Number of Agents:  10\n",
      "Start Nodes:  ['A2148', 'A3007', 'A3018', 'A5065', 'A5071', 'A5078', 'A5153', 'A5169', 'A5174', 'A5175', 'A5178', 'A5183', 'A5184', 'A5185', 'A5187']\n",
      "Max Turns:  100\n",
      "Starting No Swarm Simulation from Start Node:  A2148\n",
      "Starting No Swarm Simulation from Start Node:  A3007\n",
      "Starting No Swarm Simulation from Start Node:  A3018\n",
      "Starting No Swarm Simulation from Start Node:  A5065\n",
      "Starting No Swarm Simulation from Start Node:  A5071\n",
      "Starting No Swarm Simulation from Start Node:  A5078\n",
      "Starting No Swarm Simulation from Start Node:  A5153\n",
      "Starting No Swarm Simulation from Start Node:  A5169\n",
      "Starting No Swarm Simulation from Start Node:  A5174\n",
      "Starting No Swarm Simulation from Start Node:  A5175\n",
      "Starting No Swarm Simulation from Start Node:  A5178\n",
      "Starting No Swarm Simulation from Start Node:  A5183\n",
      "Starting No Swarm Simulation from Start Node:  A5184\n",
      "Starting No Swarm Simulation from Start Node:  A5185\n",
      "Starting No Swarm Simulation from Start Node:  A5187\n",
      "Starting Naive Swarm Simulation from Start Node:  A2148\n",
      "Starting Naive Swarm Simulation from Start Node:  A3007\n",
      "Starting Naive Swarm Simulation from Start Node:  A3018\n",
      "Starting Naive Swarm Simulation from Start Node:  A5065\n",
      "Starting Naive Swarm Simulation from Start Node:  A5071\n",
      "Starting Naive Swarm Simulation from Start Node:  A5078\n",
      "Starting Naive Swarm Simulation from Start Node:  A5153\n",
      "Starting Naive Swarm Simulation from Start Node:  A5169\n",
      "Starting Naive Swarm Simulation from Start Node:  A5174\n",
      "Starting Naive Swarm Simulation from Start Node:  A5175\n",
      "Starting Naive Swarm Simulation from Start Node:  A5178\n",
      "Starting Naive Swarm Simulation from Start Node:  A5183\n",
      "Starting Naive Swarm Simulation from Start Node:  A5184\n",
      "Starting Naive Swarm Simulation from Start Node:  A5185\n",
      "Starting Naive Swarm Simulation from Start Node:  A5187\n",
      "Starting Informed Mean Swarm Simulation from Start Node:  A2148\n",
      "Starting Informed Mean Swarm Simulation from Start Node:  A3007\n",
      "Starting Informed Mean Swarm Simulation from Start Node:  A3018\n",
      "Starting Informed Mean Swarm Simulation from Start Node:  A5065\n",
      "Starting Informed Mean Swarm Simulation from Start Node:  A5071\n",
      "Starting Informed Mean Swarm Simulation from Start Node:  A5078\n",
      "Starting Informed Mean Swarm Simulation from Start Node:  A5153\n",
      "Starting Informed Mean Swarm Simulation from Start Node:  A5169\n",
      "Starting Informed Mean Swarm Simulation from Start Node:  A5174\n",
      "Starting Informed Mean Swarm Simulation from Start Node:  A5175\n",
      "Starting Informed Mean Swarm Simulation from Start Node:  A5178\n",
      "Starting Informed Mean Swarm Simulation from Start Node:  A5183\n",
      "Starting Informed Mean Swarm Simulation from Start Node:  A5184\n",
      "Starting Informed Mean Swarm Simulation from Start Node:  A5185\n",
      "Starting Informed Mean Swarm Simulation from Start Node:  A5187\n",
      "Starting Informed Median Swarm Simulation from Start Node:  A2148\n",
      "Starting Informed Median Swarm Simulation from Start Node:  A3007\n",
      "Starting Informed Median Swarm Simulation from Start Node:  A3018\n",
      "Starting Informed Median Swarm Simulation from Start Node:  A5065\n",
      "Starting Informed Median Swarm Simulation from Start Node:  A5071\n",
      "Starting Informed Median Swarm Simulation from Start Node:  A5078\n",
      "Starting Informed Median Swarm Simulation from Start Node:  A5153\n",
      "Starting Informed Median Swarm Simulation from Start Node:  A5169\n",
      "Starting Informed Median Swarm Simulation from Start Node:  A5174\n",
      "Starting Informed Median Swarm Simulation from Start Node:  A5175\n",
      "Starting Informed Median Swarm Simulation from Start Node:  A5178\n",
      "Starting Informed Median Swarm Simulation from Start Node:  A5183\n",
      "Starting Informed Median Swarm Simulation from Start Node:  A5184\n",
      "Starting Informed Median Swarm Simulation from Start Node:  A5185\n",
      "Starting Informed Median Swarm Simulation from Start Node:  A5187\n"
     ]
    }
   ],
   "source": [
    "simulations_8_2 = run_simulation_batch(env2, num_agents, start_nodes, filepath, max_turns=max_turns)\n",
    "\n",
    "no_swarm_env2 = next(simulations_8_2)\n",
    "naive_swarm_env2 = next(simulations_8_2)\n",
    "informed_mean_swarm_env2 = next(simulations_8_2)\n",
    "informed_median_swarm_env2 = next(simulations_8_2)"
   ]
  },
  {
   "cell_type": "code",
   "execution_count": 9,
   "metadata": {},
   "outputs": [],
   "source": [
    "# Check that the number of simulations is correct\n",
    "assert len(no_swarm_env2) == len(start_nodes)\n",
    "assert len(naive_swarm_env2) == len(start_nodes)\n",
    "assert len(informed_mean_swarm_env2) == len(start_nodes)\n",
    "assert len(informed_median_swarm_env2) == len(start_nodes)"
   ]
  },
  {
   "attachments": {},
   "cell_type": "markdown",
   "metadata": {},
   "source": [
    "### Simulation 3 - Environment 3"
   ]
  },
  {
   "cell_type": "code",
   "execution_count": 10,
   "metadata": {},
   "outputs": [
    {
     "name": "stdout",
     "output_type": "stream",
     "text": [
      "Start Nodes:  ['JUNCTION-12', 'JUNCTION-16', 'JUNCTION-20', 'JUNCTION-21', 'JUNCTION-38', 'JUNCTION-39', 'JUNCTION-40', 'JUNCTION-41', 'JUNCTION-45', 'JUNCTION-53', 'JUNCTION-74', 'JUNCTION-75', 'JUNCTION-81', 'JUNCTION-88', 'JUNCTION-96']\n"
     ]
    }
   ],
   "source": [
    "start_nodes = env3_start_pool[:15]\n",
    "num_agents = 10\n",
    "max_turns = 100\n",
    "filepath = \"notable-results/Experiment-8/Env3\"\n",
    "\n",
    "print(\"Start Nodes: \", start_nodes)"
   ]
  },
  {
   "cell_type": "code",
   "execution_count": 11,
   "metadata": {},
   "outputs": [
    {
     "name": "stdout",
     "output_type": "stream",
     "text": [
      "Starting Simulation Batch -  notable-results/Experiment-8/Env3\n",
      "Number of Agents:  10\n",
      "Start Nodes:  ['JUNCTION-12', 'JUNCTION-16', 'JUNCTION-20', 'JUNCTION-21', 'JUNCTION-38', 'JUNCTION-39', 'JUNCTION-40', 'JUNCTION-41', 'JUNCTION-45', 'JUNCTION-53', 'JUNCTION-74', 'JUNCTION-75', 'JUNCTION-81', 'JUNCTION-88', 'JUNCTION-96']\n",
      "Max Turns:  100\n",
      "Starting No Swarm Simulation from Start Node:  JUNCTION-12\n",
      "Starting No Swarm Simulation from Start Node:  JUNCTION-16\n",
      "Starting No Swarm Simulation from Start Node:  JUNCTION-20\n",
      "Starting No Swarm Simulation from Start Node:  JUNCTION-21\n",
      "Starting No Swarm Simulation from Start Node:  JUNCTION-38\n",
      "Starting No Swarm Simulation from Start Node:  JUNCTION-39\n",
      "Starting No Swarm Simulation from Start Node:  JUNCTION-40\n",
      "Starting No Swarm Simulation from Start Node:  JUNCTION-41\n",
      "Starting No Swarm Simulation from Start Node:  JUNCTION-45\n",
      "Starting No Swarm Simulation from Start Node:  JUNCTION-53\n",
      "Starting No Swarm Simulation from Start Node:  JUNCTION-74\n",
      "Starting No Swarm Simulation from Start Node:  JUNCTION-75\n",
      "Starting No Swarm Simulation from Start Node:  JUNCTION-81\n",
      "Starting No Swarm Simulation from Start Node:  JUNCTION-88\n",
      "Starting No Swarm Simulation from Start Node:  JUNCTION-96\n",
      "Starting Naive Swarm Simulation from Start Node:  JUNCTION-12\n",
      "Starting Naive Swarm Simulation from Start Node:  JUNCTION-16\n",
      "Starting Naive Swarm Simulation from Start Node:  JUNCTION-20\n",
      "Starting Naive Swarm Simulation from Start Node:  JUNCTION-21\n",
      "Starting Naive Swarm Simulation from Start Node:  JUNCTION-38\n",
      "Starting Naive Swarm Simulation from Start Node:  JUNCTION-39\n",
      "Starting Naive Swarm Simulation from Start Node:  JUNCTION-40\n",
      "Starting Naive Swarm Simulation from Start Node:  JUNCTION-41\n",
      "Starting Naive Swarm Simulation from Start Node:  JUNCTION-45\n",
      "Starting Naive Swarm Simulation from Start Node:  JUNCTION-53\n",
      "Starting Naive Swarm Simulation from Start Node:  JUNCTION-74\n",
      "Starting Naive Swarm Simulation from Start Node:  JUNCTION-75\n",
      "Starting Naive Swarm Simulation from Start Node:  JUNCTION-81\n",
      "Starting Naive Swarm Simulation from Start Node:  JUNCTION-88\n",
      "Starting Naive Swarm Simulation from Start Node:  JUNCTION-96\n",
      "Starting Informed Mean Swarm Simulation from Start Node:  JUNCTION-12\n",
      "Starting Informed Mean Swarm Simulation from Start Node:  JUNCTION-16\n",
      "Starting Informed Mean Swarm Simulation from Start Node:  JUNCTION-20\n",
      "Starting Informed Mean Swarm Simulation from Start Node:  JUNCTION-21\n",
      "Starting Informed Mean Swarm Simulation from Start Node:  JUNCTION-38\n",
      "Starting Informed Mean Swarm Simulation from Start Node:  JUNCTION-39\n",
      "Starting Informed Mean Swarm Simulation from Start Node:  JUNCTION-40\n",
      "Starting Informed Mean Swarm Simulation from Start Node:  JUNCTION-41\n",
      "Starting Informed Mean Swarm Simulation from Start Node:  JUNCTION-45\n",
      "Starting Informed Mean Swarm Simulation from Start Node:  JUNCTION-53\n",
      "Starting Informed Mean Swarm Simulation from Start Node:  JUNCTION-74\n",
      "Starting Informed Mean Swarm Simulation from Start Node:  JUNCTION-75\n",
      "Starting Informed Mean Swarm Simulation from Start Node:  JUNCTION-81\n",
      "Starting Informed Mean Swarm Simulation from Start Node:  JUNCTION-88\n",
      "Starting Informed Mean Swarm Simulation from Start Node:  JUNCTION-96\n",
      "Starting Informed Median Swarm Simulation from Start Node:  JUNCTION-12\n",
      "Starting Informed Median Swarm Simulation from Start Node:  JUNCTION-16\n",
      "Starting Informed Median Swarm Simulation from Start Node:  JUNCTION-20\n",
      "Starting Informed Median Swarm Simulation from Start Node:  JUNCTION-21\n",
      "Starting Informed Median Swarm Simulation from Start Node:  JUNCTION-38\n",
      "Starting Informed Median Swarm Simulation from Start Node:  JUNCTION-39\n",
      "Starting Informed Median Swarm Simulation from Start Node:  JUNCTION-40\n",
      "Starting Informed Median Swarm Simulation from Start Node:  JUNCTION-41\n",
      "Starting Informed Median Swarm Simulation from Start Node:  JUNCTION-45\n",
      "Starting Informed Median Swarm Simulation from Start Node:  JUNCTION-53\n",
      "Starting Informed Median Swarm Simulation from Start Node:  JUNCTION-74\n",
      "Starting Informed Median Swarm Simulation from Start Node:  JUNCTION-75\n",
      "Starting Informed Median Swarm Simulation from Start Node:  JUNCTION-81\n",
      "Starting Informed Median Swarm Simulation from Start Node:  JUNCTION-88\n",
      "Starting Informed Median Swarm Simulation from Start Node:  JUNCTION-96\n"
     ]
    }
   ],
   "source": [
    "simulations_8_3 = run_simulation_batch(env3, num_agents, start_nodes, filepath, max_turns=max_turns)\n",
    "\n",
    "no_swarm_env3 = next(simulations_8_3)\n",
    "naive_swarm_env3 = next(simulations_8_3)\n",
    "informed_mean_swarm_env3 = next(simulations_8_3)\n",
    "informed_median_swarm_env3 = next(simulations_8_3)"
   ]
  },
  {
   "cell_type": "code",
   "execution_count": 12,
   "metadata": {},
   "outputs": [],
   "source": [
    "# Check that the number of simulations is correct\n",
    "assert len(no_swarm_env3) == len(start_nodes)\n",
    "assert len(naive_swarm_env3) == len(start_nodes)\n",
    "assert len(informed_mean_swarm_env3) == len(start_nodes)\n",
    "assert len(informed_median_swarm_env3) == len(start_nodes)"
   ]
  },
  {
   "attachments": {},
   "cell_type": "markdown",
   "metadata": {},
   "source": [
    "## Analysis"
   ]
  },
  {
   "cell_type": "code",
   "execution_count": 13,
   "metadata": {},
   "outputs": [],
   "source": [
    "from typing import List\n",
    "\n",
    "# Read the results from the simulations\n",
    "def read_results(simulations, swarm_type) -> List[pd.DataFrame]:\n",
    "    results = []\n",
    "    for sim in simulations:\n",
    "        start_node, path = sim\n",
    "        df = pd.read_csv(f\"{path}/results.csv\")\n",
    "        df['start_node'] = start_node\n",
    "        df.start_node = start_node\n",
    "        df['swarm_type'] = swarm_type\n",
    "        df.swarm_type = swarm_type\n",
    "        results.append(df)\n",
    "    return results\n",
    "\n",
    "def clean_dataframe(dataframe: pd.DataFrame) -> pd.Series:\n",
    "    max_row = dataframe.loc[dataframe['abs_links_explored'].idxmax()]\n",
    "    max_row = max_row[['abs_links_explored', 'start_node', 'swarm_type']]\n",
    "    return max_row\n",
    "\n",
    "def sim_dataframe(simulations, swarm_type):\n",
    "    df = pd.DataFrame()\n",
    "    results = read_results(simulations, swarm_type)\n",
    "    for result in results:\n",
    "        result = clean_dataframe(result)\n",
    "        result = result.reset_index(drop=True)\n",
    "        df = pd.concat([df, result], axis=1, ignore_index=True)\n",
    "    return df\n",
    "\n",
    "def make_dataframe(simulations, swarm_type):\n",
    "    df = sim_dataframe(simulations, swarm_type)\n",
    "    df = df.T\n",
    "    df.columns = ['abs_links_explored', 'start_node', 'swarm_type']\n",
    "    df = df.reset_index(drop=True)\n",
    "    return df\n",
    "\n",
    "def batch_make_dataframe(simulations:list, swarm_types:list):\n",
    "    df = pd.DataFrame()\n",
    "    for i in range(len(simulations)):\n",
    "        df_ = make_dataframe(simulations[i], swarm_types[i])\n",
    "        df = pd.concat([df, df_], axis=0, ignore_index=True)\n",
    "    return df\n",
    "\n",
    "def melt_pivot(df:pd.DataFrame, swarm_types:list):\n",
    "    df = df.melt(id_vars=['start_node', 'swarm_type'], var_name='metric', value_name='value')\n",
    "    df = df.pivot(index=['start_node', 'swarm_type'], columns='metric', values='value')\n",
    "    df = df.reset_index()\n",
    "    df = df.rename(columns={'abs_links_explored': 'links_explored'})\n",
    "    df = df.sort_values(by=['swarm_type', 'start_node'])\n",
    "    df = df.reset_index(drop=True)\n",
    "    return df\n",
    "      \n",
    "    "
   ]
  },
  {
   "cell_type": "code",
   "execution_count": 14,
   "metadata": {},
   "outputs": [],
   "source": [
    "sims = [no_swarm_env1, naive_swarm_env1, informed_mean_swarm_env1, informed_median_swarm_env1]\n",
    "swarm_types = ['no-swarm', 'naive', 'informed-mean', 'informed-median']\n",
    "\n",
    "df_env1 = batch_make_dataframe(sims, swarm_types)"
   ]
  },
  {
   "cell_type": "code",
   "execution_count": 15,
   "metadata": {},
   "outputs": [
    {
     "data": {
      "text/html": [
       "<div>\n",
       "<style scoped>\n",
       "    .dataframe tbody tr th:only-of-type {\n",
       "        vertical-align: middle;\n",
       "    }\n",
       "\n",
       "    .dataframe tbody tr th {\n",
       "        vertical-align: top;\n",
       "    }\n",
       "\n",
       "    .dataframe thead th {\n",
       "        text-align: right;\n",
       "    }\n",
       "</style>\n",
       "<table border=\"1\" class=\"dataframe\">\n",
       "  <thead>\n",
       "    <tr style=\"text-align: right;\">\n",
       "      <th>metric</th>\n",
       "      <th>start_node</th>\n",
       "      <th>swarm_type</th>\n",
       "      <th>links_explored</th>\n",
       "    </tr>\n",
       "  </thead>\n",
       "  <tbody>\n",
       "    <tr>\n",
       "      <th>0</th>\n",
       "      <td>1</td>\n",
       "      <td>informed-mean</td>\n",
       "      <td>100</td>\n",
       "    </tr>\n",
       "    <tr>\n",
       "      <th>1</th>\n",
       "      <td>131</td>\n",
       "      <td>informed-mean</td>\n",
       "      <td>103</td>\n",
       "    </tr>\n",
       "    <tr>\n",
       "      <th>2</th>\n",
       "      <td>15</td>\n",
       "      <td>informed-mean</td>\n",
       "      <td>106</td>\n",
       "    </tr>\n",
       "    <tr>\n",
       "      <th>3</th>\n",
       "      <td>166</td>\n",
       "      <td>informed-mean</td>\n",
       "      <td>118</td>\n",
       "    </tr>\n",
       "    <tr>\n",
       "      <th>4</th>\n",
       "      <td>167</td>\n",
       "      <td>informed-mean</td>\n",
       "      <td>100</td>\n",
       "    </tr>\n",
       "  </tbody>\n",
       "</table>\n",
       "</div>"
      ],
      "text/plain": [
       "metric start_node     swarm_type links_explored\n",
       "0               1  informed-mean            100\n",
       "1             131  informed-mean            103\n",
       "2              15  informed-mean            106\n",
       "3             166  informed-mean            118\n",
       "4             167  informed-mean            100"
      ]
     },
     "execution_count": 15,
     "metadata": {},
     "output_type": "execute_result"
    }
   ],
   "source": [
    "env1_res = melt_pivot(df_env1, swarm_types)\n",
    "env1_res.head()"
   ]
  },
  {
   "cell_type": "code",
   "execution_count": 16,
   "metadata": {},
   "outputs": [],
   "source": [
    "sims = [no_swarm_env2, naive_swarm_env2, informed_mean_swarm_env2, informed_median_swarm_env2]\n",
    "swarm_types = ['no-swarm', 'naive', 'informed-mean', 'informed-median']\n",
    "\n",
    "df_env2 = batch_make_dataframe(sims, swarm_types)"
   ]
  },
  {
   "cell_type": "code",
   "execution_count": 17,
   "metadata": {},
   "outputs": [
    {
     "data": {
      "text/html": [
       "<div>\n",
       "<style scoped>\n",
       "    .dataframe tbody tr th:only-of-type {\n",
       "        vertical-align: middle;\n",
       "    }\n",
       "\n",
       "    .dataframe tbody tr th {\n",
       "        vertical-align: top;\n",
       "    }\n",
       "\n",
       "    .dataframe thead th {\n",
       "        text-align: right;\n",
       "    }\n",
       "</style>\n",
       "<table border=\"1\" class=\"dataframe\">\n",
       "  <thead>\n",
       "    <tr style=\"text-align: right;\">\n",
       "      <th>metric</th>\n",
       "      <th>start_node</th>\n",
       "      <th>swarm_type</th>\n",
       "      <th>links_explored</th>\n",
       "    </tr>\n",
       "  </thead>\n",
       "  <tbody>\n",
       "    <tr>\n",
       "      <th>0</th>\n",
       "      <td>A2148</td>\n",
       "      <td>informed-mean</td>\n",
       "      <td>156</td>\n",
       "    </tr>\n",
       "    <tr>\n",
       "      <th>1</th>\n",
       "      <td>A3007</td>\n",
       "      <td>informed-mean</td>\n",
       "      <td>181</td>\n",
       "    </tr>\n",
       "    <tr>\n",
       "      <th>2</th>\n",
       "      <td>A3018</td>\n",
       "      <td>informed-mean</td>\n",
       "      <td>104</td>\n",
       "    </tr>\n",
       "    <tr>\n",
       "      <th>3</th>\n",
       "      <td>A5065</td>\n",
       "      <td>informed-mean</td>\n",
       "      <td>197</td>\n",
       "    </tr>\n",
       "    <tr>\n",
       "      <th>4</th>\n",
       "      <td>A5071</td>\n",
       "      <td>informed-mean</td>\n",
       "      <td>203</td>\n",
       "    </tr>\n",
       "  </tbody>\n",
       "</table>\n",
       "</div>"
      ],
      "text/plain": [
       "metric start_node     swarm_type links_explored\n",
       "0           A2148  informed-mean            156\n",
       "1           A3007  informed-mean            181\n",
       "2           A3018  informed-mean            104\n",
       "3           A5065  informed-mean            197\n",
       "4           A5071  informed-mean            203"
      ]
     },
     "execution_count": 17,
     "metadata": {},
     "output_type": "execute_result"
    }
   ],
   "source": [
    "env2_res = melt_pivot(df_env2, swarm_types)\n",
    "env2_res.head()"
   ]
  },
  {
   "cell_type": "code",
   "execution_count": 18,
   "metadata": {},
   "outputs": [],
   "source": [
    "sims = [no_swarm_env3, naive_swarm_env3, informed_mean_swarm_env3, informed_median_swarm_env3]\n",
    "swarm_types = ['no-swarm', 'naive', 'informed-mean', 'informed-median']\n",
    "\n",
    "df_env3 = batch_make_dataframe(sims, swarm_types)"
   ]
  },
  {
   "cell_type": "code",
   "execution_count": 19,
   "metadata": {},
   "outputs": [
    {
     "data": {
      "text/html": [
       "<div>\n",
       "<style scoped>\n",
       "    .dataframe tbody tr th:only-of-type {\n",
       "        vertical-align: middle;\n",
       "    }\n",
       "\n",
       "    .dataframe tbody tr th {\n",
       "        vertical-align: top;\n",
       "    }\n",
       "\n",
       "    .dataframe thead th {\n",
       "        text-align: right;\n",
       "    }\n",
       "</style>\n",
       "<table border=\"1\" class=\"dataframe\">\n",
       "  <thead>\n",
       "    <tr style=\"text-align: right;\">\n",
       "      <th>metric</th>\n",
       "      <th>start_node</th>\n",
       "      <th>swarm_type</th>\n",
       "      <th>links_explored</th>\n",
       "    </tr>\n",
       "  </thead>\n",
       "  <tbody>\n",
       "    <tr>\n",
       "      <th>0</th>\n",
       "      <td>JUNCTION-12</td>\n",
       "      <td>informed-mean</td>\n",
       "      <td>270</td>\n",
       "    </tr>\n",
       "    <tr>\n",
       "      <th>1</th>\n",
       "      <td>JUNCTION-16</td>\n",
       "      <td>informed-mean</td>\n",
       "      <td>221</td>\n",
       "    </tr>\n",
       "    <tr>\n",
       "      <th>2</th>\n",
       "      <td>JUNCTION-20</td>\n",
       "      <td>informed-mean</td>\n",
       "      <td>290</td>\n",
       "    </tr>\n",
       "    <tr>\n",
       "      <th>3</th>\n",
       "      <td>JUNCTION-21</td>\n",
       "      <td>informed-mean</td>\n",
       "      <td>290</td>\n",
       "    </tr>\n",
       "    <tr>\n",
       "      <th>4</th>\n",
       "      <td>JUNCTION-38</td>\n",
       "      <td>informed-mean</td>\n",
       "      <td>218</td>\n",
       "    </tr>\n",
       "  </tbody>\n",
       "</table>\n",
       "</div>"
      ],
      "text/plain": [
       "metric   start_node     swarm_type links_explored\n",
       "0       JUNCTION-12  informed-mean            270\n",
       "1       JUNCTION-16  informed-mean            221\n",
       "2       JUNCTION-20  informed-mean            290\n",
       "3       JUNCTION-21  informed-mean            290\n",
       "4       JUNCTION-38  informed-mean            218"
      ]
     },
     "execution_count": 19,
     "metadata": {},
     "output_type": "execute_result"
    }
   ],
   "source": [
    "env3_res = melt_pivot(df_env3, swarm_types)\n",
    "env3_res.head()"
   ]
  },
  {
   "cell_type": "code",
   "execution_count": 20,
   "metadata": {},
   "outputs": [],
   "source": [
    "def multi_batch_df(dataframes:List[pd.DataFrame]):\n",
    "    df = pd.DataFrame()\n",
    "    for dataframe in dataframes:\n",
    "        df = pd.concat([df, dataframe], axis=0, ignore_index=True)\n",
    "    return df"
   ]
  },
  {
   "cell_type": "code",
   "execution_count": 21,
   "metadata": {},
   "outputs": [],
   "source": [
    "results = multi_batch_df([df_env1, df_env2, df_env3])\n",
    "assert len(results) == 15*3*4, \"The number of rows in the dataframe is incorrect\""
   ]
  },
  {
   "cell_type": "code",
   "execution_count": 22,
   "metadata": {},
   "outputs": [],
   "source": [
    "batch_long = pd.melt(results, id_vars=['start_node', 'swarm_type'], value_vars=['abs_links_explored'])"
   ]
  },
  {
   "cell_type": "code",
   "execution_count": 23,
   "metadata": {},
   "outputs": [
    {
     "data": {
      "text/html": [
       "<div>\n",
       "<style scoped>\n",
       "    .dataframe tbody tr th:only-of-type {\n",
       "        vertical-align: middle;\n",
       "    }\n",
       "\n",
       "    .dataframe tbody tr th {\n",
       "        vertical-align: top;\n",
       "    }\n",
       "\n",
       "    .dataframe thead th {\n",
       "        text-align: right;\n",
       "    }\n",
       "</style>\n",
       "<table border=\"1\" class=\"dataframe\">\n",
       "  <thead>\n",
       "    <tr style=\"text-align: right;\">\n",
       "      <th>variable</th>\n",
       "      <th>start_node</th>\n",
       "      <th>swarm_type</th>\n",
       "      <th>abs_links_explored</th>\n",
       "    </tr>\n",
       "  </thead>\n",
       "  <tbody>\n",
       "    <tr>\n",
       "      <th>0</th>\n",
       "      <td>1</td>\n",
       "      <td>informed-mean</td>\n",
       "      <td>100.0</td>\n",
       "    </tr>\n",
       "    <tr>\n",
       "      <th>1</th>\n",
       "      <td>1</td>\n",
       "      <td>informed-median</td>\n",
       "      <td>100.0</td>\n",
       "    </tr>\n",
       "    <tr>\n",
       "      <th>2</th>\n",
       "      <td>1</td>\n",
       "      <td>naive</td>\n",
       "      <td>95.0</td>\n",
       "    </tr>\n",
       "    <tr>\n",
       "      <th>3</th>\n",
       "      <td>1</td>\n",
       "      <td>no-swarm</td>\n",
       "      <td>16.0</td>\n",
       "    </tr>\n",
       "    <tr>\n",
       "      <th>4</th>\n",
       "      <td>131</td>\n",
       "      <td>informed-mean</td>\n",
       "      <td>103.0</td>\n",
       "    </tr>\n",
       "    <tr>\n",
       "      <th>...</th>\n",
       "      <td>...</td>\n",
       "      <td>...</td>\n",
       "      <td>...</td>\n",
       "    </tr>\n",
       "    <tr>\n",
       "      <th>175</th>\n",
       "      <td>Lake</td>\n",
       "      <td>no-swarm</td>\n",
       "      <td>27.0</td>\n",
       "    </tr>\n",
       "    <tr>\n",
       "      <th>176</th>\n",
       "      <td>River</td>\n",
       "      <td>informed-mean</td>\n",
       "      <td>93.0</td>\n",
       "    </tr>\n",
       "    <tr>\n",
       "      <th>177</th>\n",
       "      <td>River</td>\n",
       "      <td>informed-median</td>\n",
       "      <td>93.0</td>\n",
       "    </tr>\n",
       "    <tr>\n",
       "      <th>178</th>\n",
       "      <td>River</td>\n",
       "      <td>naive</td>\n",
       "      <td>112.0</td>\n",
       "    </tr>\n",
       "    <tr>\n",
       "      <th>179</th>\n",
       "      <td>River</td>\n",
       "      <td>no-swarm</td>\n",
       "      <td>62.0</td>\n",
       "    </tr>\n",
       "  </tbody>\n",
       "</table>\n",
       "<p>180 rows × 3 columns</p>\n",
       "</div>"
      ],
      "text/plain": [
       "variable start_node       swarm_type  abs_links_explored\n",
       "0                 1    informed-mean               100.0\n",
       "1                 1  informed-median               100.0\n",
       "2                 1            naive                95.0\n",
       "3                 1         no-swarm                16.0\n",
       "4               131    informed-mean               103.0\n",
       "..              ...              ...                 ...\n",
       "175            Lake         no-swarm                27.0\n",
       "176           River    informed-mean                93.0\n",
       "177           River  informed-median                93.0\n",
       "178           River            naive               112.0\n",
       "179           River         no-swarm                62.0\n",
       "\n",
       "[180 rows x 3 columns]"
      ]
     },
     "execution_count": 23,
     "metadata": {},
     "output_type": "execute_result"
    }
   ],
   "source": [
    "batch_wide = batch_long.pivot_table(index=['start_node', 'swarm_type'], columns='variable', values='value').reset_index()\n",
    "batch_wide"
   ]
  },
  {
   "attachments": {},
   "cell_type": "markdown",
   "metadata": {},
   "source": [
    "### Examine stability of the swarm control methods to changes in starting position"
   ]
  },
  {
   "attachments": {},
   "cell_type": "markdown",
   "metadata": {},
   "source": [
    "#### ANOVA Assumptions Test"
   ]
  },
  {
   "cell_type": "code",
   "execution_count": 24,
   "metadata": {},
   "outputs": [
    {
     "name": "stdout",
     "output_type": "stream",
     "text": [
      "abs_links_explored: p-value=0.0000010454 - The data is not normally distributed\n"
     ]
    }
   ],
   "source": [
    "# Test for normality of the data using the Shapiro-Wilk test\n",
    "for col in batch_wide.columns:\n",
    "    if col not in ['start_node', 'swarm_type']:\n",
    "        _, p = stats.shapiro(batch_wide[col])\n",
    "        sig_val = 0.05\n",
    "        if p < sig_val:\n",
    "            print(f'{col}: p-value={p:.10f} - The data is not normally distributed')\n",
    "        else:\n",
    "            print(f'{col}: p-value={p:.10f} - The data is normally distributed')"
   ]
  },
  {
   "attachments": {},
   "cell_type": "markdown",
   "metadata": {},
   "source": [
    "#### Descriptive Statistics\n",
    "\n",
    "It would be nice to compare between the different networks and just use it all together as a large dataset. Unfortunately, this isn't possible. The networks are different enough that the results will be affected too much by the topology of the networks - the connectedness etc. - which renders such comparisons futile."
   ]
  },
  {
   "cell_type": "code",
   "execution_count": 25,
   "metadata": {},
   "outputs": [],
   "source": [
    "def describe(dataframe:pd.DataFrame):\n",
    "    grouped = dataframe.groupby(['swarm_type'])['links_explored']\n",
    "    means = grouped.mean()\n",
    "    stds = grouped.std()\n",
    "    \n",
    "    cvs = (stds / means) * 100\n",
    "    \n",
    "    return means, stds, cvs\n",
    "\n",
    "def run_describe(dataframe:pd.DataFrame, environment:str):\n",
    "    means, stds, cvs = describe(dataframe)\n",
    "    \n",
    "    print(\"Descriptive Stats: {}\".format(environment))\n",
    "    print()\n",
    "    print(\"Mean number of links explored:\")\n",
    "    print(means)\n",
    "    print()\n",
    "    print(\"Standard deviation of number of links explored:\")\n",
    "    print(stds)\n",
    "    print()\n",
    "    print(\"Coefficient of variation of number of links explored:\")\n",
    "    print(cvs)\n",
    "    print()\n",
    "    print(\"--------------------------------------------------\")\n",
    "    print()\n",
    "    "
   ]
  },
  {
   "cell_type": "code",
   "execution_count": 26,
   "metadata": {},
   "outputs": [
    {
     "name": "stdout",
     "output_type": "stream",
     "text": [
      "Descriptive Stats: Environment 1\n",
      "\n",
      "Mean number of links explored:\n",
      "swarm_type\n",
      "informed-mean      99.466667\n",
      "informed-median    99.466667\n",
      "naive              84.800000\n",
      "no-swarm           43.266667\n",
      "Name: links_explored, dtype: float64\n",
      "\n",
      "Standard deviation of number of links explored:\n",
      "swarm_type\n",
      "informed-mean       8.399546\n",
      "informed-median     8.399546\n",
      "naive              30.515102\n",
      "no-swarm           15.993153\n",
      "Name: links_explored, dtype: float64\n",
      "\n",
      "Coefficient of variation of number of links explored:\n",
      "swarm_type\n",
      "informed-mean       8.444584\n",
      "informed-median     8.444584\n",
      "naive              35.984790\n",
      "no-swarm           36.964145\n",
      "Name: links_explored, dtype: float64\n",
      "\n",
      "--------------------------------------------------\n",
      "\n"
     ]
    }
   ],
   "source": [
    "run_describe(env1_res, 'Environment 1')"
   ]
  },
  {
   "cell_type": "code",
   "execution_count": 27,
   "metadata": {},
   "outputs": [
    {
     "name": "stdout",
     "output_type": "stream",
     "text": [
      "Descriptive Stats: Environment 2\n",
      "\n",
      "Mean number of links explored:\n",
      "swarm_type\n",
      "informed-mean      179.066667\n",
      "informed-median    179.066667\n",
      "naive              134.533333\n",
      "no-swarm            64.266667\n",
      "Name: links_explored, dtype: float64\n",
      "\n",
      "Standard deviation of number of links explored:\n",
      "swarm_type\n",
      "informed-mean      40.972930\n",
      "informed-median    40.972930\n",
      "naive              58.783947\n",
      "no-swarm           23.986504\n",
      "Name: links_explored, dtype: float64\n",
      "\n",
      "Coefficient of variation of number of links explored:\n",
      "swarm_type\n",
      "informed-mean      22.881383\n",
      "informed-median    22.881383\n",
      "naive              43.694708\n",
      "no-swarm           37.323399\n",
      "Name: links_explored, dtype: float64\n",
      "\n",
      "--------------------------------------------------\n",
      "\n"
     ]
    }
   ],
   "source": [
    "run_describe(env2_res, 'Environment 2')"
   ]
  },
  {
   "cell_type": "code",
   "execution_count": 28,
   "metadata": {},
   "outputs": [
    {
     "name": "stdout",
     "output_type": "stream",
     "text": [
      "Descriptive Stats: Environment 3\n",
      "\n",
      "Mean number of links explored:\n",
      "swarm_type\n",
      "informed-mean      231.400000\n",
      "informed-median    231.400000\n",
      "naive              182.133333\n",
      "no-swarm            66.666667\n",
      "Name: links_explored, dtype: float64\n",
      "\n",
      "Standard deviation of number of links explored:\n",
      "swarm_type\n",
      "informed-mean      68.944906\n",
      "informed-median    68.944906\n",
      "naive              56.217520\n",
      "no-swarm           30.499805\n",
      "Name: links_explored, dtype: float64\n",
      "\n",
      "Coefficient of variation of number of links explored:\n",
      "swarm_type\n",
      "informed-mean      29.794687\n",
      "informed-median    29.794687\n",
      "naive              30.866135\n",
      "no-swarm           45.749707\n",
      "Name: links_explored, dtype: float64\n",
      "\n",
      "--------------------------------------------------\n",
      "\n"
     ]
    },
    {
     "ename": "",
     "evalue": "",
     "output_type": "error",
     "traceback": [
      "\u001b[1;31mThe Kernel crashed while executing code in the the current cell or a previous cell. Please review the code in the cell(s) to identify a possible cause of the failure. Click <a href='https://aka.ms/vscodeJupyterKernelCrash'>here</a> for more info. View Jupyter <a href='command:jupyter.viewOutput'>log</a> for further details."
     ]
    }
   ],
   "source": [
    "run_describe(env3_res, 'Environment 3')"
   ]
  }
 ],
 "metadata": {
  "kernelspec": {
   "display_name": "env",
   "language": "python",
   "name": "python3"
  },
  "language_info": {
   "codemirror_mode": {
    "name": "ipython",
    "version": 3
   },
   "file_extension": ".py",
   "mimetype": "text/x-python",
   "name": "python",
   "nbconvert_exporter": "python",
   "pygments_lexer": "ipython3",
   "version": "3.8.10"
  },
  "orig_nbformat": 4
 },
 "nbformat": 4,
 "nbformat_minor": 2
}
