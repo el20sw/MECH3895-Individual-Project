{
 "cells": [
  {
   "attachments": {},
   "cell_type": "markdown",
   "metadata": {},
   "source": [
    "# Experiment 5"
   ]
  },
  {
   "attachments": {},
   "cell_type": "markdown",
   "metadata": {},
   "source": [
    "Experiment 5 aims to explore the robustness of the control in other pipe networks. Similar to Experiment 1, the experiment parameters will be the same though the starting locations will change due to the new pipe networks being used."
   ]
  },
  {
   "cell_type": "code",
   "execution_count": null,
   "metadata": {},
   "outputs": [],
   "source": [
    "# import random\n",
    "# random.seed(0)\n",
    "\n",
    "import numpy as np\n",
    "import pandas as pd\n",
    "import scipy.stats as stats\n",
    "import matplotlib.pyplot as plt\n",
    "\n",
    "import networkx as nx"
   ]
  },
  {
   "cell_type": "code",
   "execution_count": null,
   "metadata": {},
   "outputs": [],
   "source": [
    "import logging\n",
    "\n",
    "from src.simulation import Simulation\n",
    "from src.network import Network\n",
    "from src.render import Render\n",
    "\n",
    "logging.disable(logging.CRITICAL)"
   ]
  },
  {
   "cell_type": "code",
   "execution_count": null,
   "metadata": {},
   "outputs": [],
   "source": [
    "# Relative Path to Network INP File\n",
    "network_file_1 = 'networks/Net6.inp'\n",
    "network_file_2 = 'networks/250701 K709vs2-Export.inp'\n",
    "# Create the environment\n",
    "env_1 = Network(network_file_1)\n",
    "env_2 = Network(network_file_2)\n",
    "# Get all the nodes in the network with degree = 1 - these will be the possible start nodes\n",
    "g_1 = env_1.water_network_model.to_graph().to_undirected()\n",
    "g_2 = env_2.water_network_model.to_graph().to_undirected()\n",
    "deg_1 = g_1.degree\n",
    "deg_2 = g_2.degree\n",
    "start_pool_1 = [node for node, degree in deg_1 if degree == 1]\n",
    "start_pool_2 = [node for node, degree in deg_2 if degree == 1]\n",
    "print(f\"Start pool - Net6: {start_pool_1}\")\n",
    "print(f\"Number of start nodes: {len(start_pool_1)}\")\n",
    "print(f\"Number of nodes: {len(g_1.nodes)}\")\n",
    "print(f\"Number of links: {len(g_1.edges)}\")\n",
    "print(f\"Start pool - K709vs2: {start_pool_2}\")\n",
    "print(f\"Number of start nodes: {len(start_pool_2)}\")\n",
    "print(f\"Number of nodes: {len(g_2.nodes)}\")\n",
    "print(f\"Number of links: {len(g_2.edges)}\")"
   ]
  },
  {
   "attachments": {},
   "cell_type": "markdown",
   "metadata": {},
   "source": [
    "## Function Definitions"
   ]
  },
  {
   "cell_type": "code",
   "execution_count": null,
   "metadata": {},
   "outputs": [],
   "source": [
    "# Function to filter simulation results\n",
    "def filter_results(dataframe, simulations, data_of_interest):\n",
    "    # Get the results from each simulation\n",
    "    for start_node, path in simulations:\n",
    "        # Read the simulation results csv file\n",
    "        temp = pd.read_csv(f'{path}/results.csv')\n",
    "        \n",
    "        # Drop all the columns except the data of interest and turns\n",
    "        temp = temp[['turn', data_of_interest]]\n",
    "        \n",
    "        # Transpose the dataframe\n",
    "        temp = temp.T\n",
    "        \n",
    "        # Set the turns as the column names\n",
    "        temp.columns = temp.iloc[0].astype(int)\n",
    "        \n",
    "        # Drop the turns row\n",
    "        temp = temp.drop('turn')\n",
    "        \n",
    "        # Add the start node as a column\n",
    "        temp['start_node'] = start_node\n",
    "        \n",
    "        # If the dataframe is empty, set it to the temp dataframe\n",
    "        if dataframe.empty:\n",
    "            dataframe = temp\n",
    "        # Else, append the temp dataframe to the dataframe\n",
    "        else:\n",
    "            dataframe = pd.concat([dataframe, temp])\n",
    "            \n",
    "    # Create rows with the mean, max and min of each column\n",
    "    dataframe.loc['mean'] = dataframe.mean(numeric_only=True, axis=0)\n",
    "    dataframe.loc['max'] = dataframe.max(numeric_only=True, axis=0)\n",
    "    dataframe.loc['min'] = dataframe.min(numeric_only=True, axis=0)\n",
    "    \n",
    "    # Return the dataframe\n",
    "    return dataframe"
   ]
  },
  {
   "attachments": {},
   "cell_type": "markdown",
   "metadata": {},
   "source": [
    "## Create simulations"
   ]
  },
  {
   "attachments": {},
   "cell_type": "markdown",
   "metadata": {},
   "source": [
    "## Experiments"
   ]
  },
  {
   "attachments": {},
   "cell_type": "markdown",
   "metadata": {},
   "source": [
    "### Experiment 5.1\n",
    "Uses Pipe Network 6 from Net6.inp\n",
    "\n",
    "#### Simulation parameters:\n",
    "- env: the network environment - Net6\n",
    "- num_agents: the number of agents to create - 10\n",
    "- swarm: whether to use swarm intelligence - all of options will be tested\n",
    "- swarm_config: the swarm configuration - all of options will be tested\n",
    "- start_node: the start node for the simulation - 15 nodes from the start node pool\n",
    "- max_turns: the maximum number of turns to run the simulation - 100"
   ]
  },
  {
   "cell_type": "code",
   "execution_count": null,
   "metadata": {},
   "outputs": [],
   "source": [
    "start_nodes_1 = start_pool_1[:15]\n",
    "num_agents = 10\n",
    "max_turns = 100\n",
    "\n",
    "print(f\"Start nodes: {start_nodes_1}\")"
   ]
  },
  {
   "attachments": {},
   "cell_type": "markdown",
   "metadata": {},
   "source": [
    "#### Experiment 5.1.1\n",
    "- env: Net6\n",
    "- num_agents: 10\n",
    "- swarm: False\n",
    "- swarm_config: None\n",
    "- start_node: 15 nodes from start node pool\n",
    "- max_turns: 100\n",
    "- filepath: notable-results/Experiment5/Network1/NoSwarm"
   ]
  },
  {
   "cell_type": "code",
   "execution_count": null,
   "metadata": {},
   "outputs": [],
   "source": [
    "simulations_5_2_1 = []\n",
    "\n",
    "for start_node in start_nodes_1:\n",
    "    # Create the simulation\n",
    "    print(f\"Starting simulation with start node: {start_node}\")\n",
    "    sim = Simulation(env_1, num_agents=10, swarm=False, start_positions=[start_node], filepath=\"notable-results/Experiment-5/Network1/NoSwarm\")\n",
    "    simulations_5_2_1.append((start_node, sim.path_to_results_directory))\n",
    "    # Run the simulation\n",
    "    sim.run(max_turns=max_turns)\n",
    "    \n",
    "print(f\"Done: {simulations_5_2_1}\")"
   ]
  },
  {
   "cell_type": "code",
   "execution_count": null,
   "metadata": {},
   "outputs": [],
   "source": [
    "df_5_1_1 = pd.DataFrame()\n",
    "df_5_1_1 = filter_results(df_5_1_1, simulations_5_2_1, 'pct_links_explored')"
   ]
  },
  {
   "attachments": {},
   "cell_type": "markdown",
   "metadata": {},
   "source": [
    "#### Experiment 5.1.2\n",
    "- env: Net6\n",
    "- num_agents: 10\n",
    "- swarm: True\n",
    "- swarm_config: naive\n",
    "- start_node: 15 nodes from start node pool\n",
    "- max_turns: 100\n",
    "- filepath: notable-results/Experiment1/Network1/NaiveSwarm"
   ]
  },
  {
   "cell_type": "code",
   "execution_count": null,
   "metadata": {},
   "outputs": [],
   "source": [
    "swarm_config = {'swarm': True, 'swarm_type': 'naive'}\n",
    "\n",
    "simulations_5_2_2 = []\n",
    "\n",
    "for start_node in start_nodes_1:\n",
    "    # Create the simulation\n",
    "    print(f\"Starting simulation with start node: {start_node}\")\n",
    "    sim = Simulation(env_1, num_agents=10, swarm=True, swarm_config=swarm_config, start_positions=[start_node], filepath=\"notable-results/Experiment-5/Network1/NaiveSwarm\")\n",
    "    simulations_5_2_2.append((start_node, sim.path_to_results_directory))\n",
    "    # Run the simulation\n",
    "    sim.run(max_turns=max_turns)\n",
    "    \n",
    "print(f\"Done: {simulations_5_2_2}\")"
   ]
  },
  {
   "cell_type": "code",
   "execution_count": null,
   "metadata": {},
   "outputs": [],
   "source": [
    "df_5_1_2 = pd.DataFrame()\n",
    "df_5_1_2 = filter_results(df_5_1_2, simulations_5_2_2, 'pct_links_explored')"
   ]
  },
  {
   "attachments": {},
   "cell_type": "markdown",
   "metadata": {},
   "source": [
    "#### Experiment 5.1.3\n",
    "- env: Net6\n",
    "- num_agents: 10\n",
    "- swarm: True\n",
    "- swarm_config: informed, mean\n",
    "- start_node: 15 nodes from start node pool\n",
    "- max_turns: 100\n",
    "- filepath: notable-results/Experiment1/Network1/InformedMeanSwarm"
   ]
  },
  {
   "cell_type": "code",
   "execution_count": null,
   "metadata": {},
   "outputs": [],
   "source": [
    "swarm_config = {'swarm': True, 'swarm_type': 'informed', 'allocation_threshold': 'mean'}\n",
    "\n",
    "simulations_5_2_3 = []\n",
    "\n",
    "for start_node in start_nodes_1:\n",
    "    # Create the simulation\n",
    "    print(f\"Starting simulation with start node: {start_node}\")\n",
    "    sim = Simulation(env_1, num_agents=10, swarm=True, swarm_config=swarm_config, start_positions=[start_node], filepath=\"notable-results/Experiment-5/Network1/InformedMeanSwarm\")\n",
    "    simulations_5_2_3.append((start_node, sim.path_to_results_directory))\n",
    "    # Run the simulation\n",
    "    sim.run(max_turns=max_turns)\n",
    "    \n",
    "print(f\"Done: {simulations_5_2_3}\")"
   ]
  },
  {
   "cell_type": "code",
   "execution_count": null,
   "metadata": {},
   "outputs": [],
   "source": [
    "df_5_1_3 = pd.DataFrame()\n",
    "df_5_1_3 = filter_results(df_5_1_3, simulations_5_2_3, 'pct_links_explored')"
   ]
  },
  {
   "attachments": {},
   "cell_type": "markdown",
   "metadata": {},
   "source": [
    "#### Experiment 5.1.4\n",
    "- env: Net6\n",
    "- num_agents: 10\n",
    "- swarm: True\n",
    "- swarm_config: informed, median\n",
    "- start_node: 15 nodes from start node pool\n",
    "- max_turns: 100\n",
    "- filepath: notable-results/Experiment1/Network1/InformedMedianSwarm"
   ]
  },
  {
   "cell_type": "code",
   "execution_count": null,
   "metadata": {},
   "outputs": [],
   "source": [
    "swarm_config = {'swarm': True, 'swarm_type': 'informed', 'allocation_threshold': 'median'}\n",
    "\n",
    "simulations_5_2_4 = []\n",
    "\n",
    "for start_node in start_nodes_1:\n",
    "    # Create the simulation\n",
    "    print(f\"Starting simulation with start node: {start_node}\")\n",
    "    sim = Simulation(env_1, num_agents=10, swarm=True, swarm_config=swarm_config, start_positions=[start_node], filepath=\"notable-results/Experiment-5/Network1/InformedMedianSwarm\")\n",
    "    simulations_5_2_4.append((start_node, sim.path_to_results_directory))\n",
    "    # Run the simulation\n",
    "    sim.run(max_turns=max_turns)\n",
    "    \n",
    "print(f\"Done: {simulations_5_2_4}\")"
   ]
  },
  {
   "cell_type": "code",
   "execution_count": null,
   "metadata": {},
   "outputs": [],
   "source": [
    "df_5_1_4 = pd.DataFrame()\n",
    "df_5_1_4 = filter_results(df_5_1_4, simulations_5_2_4, 'pct_links_explored')"
   ]
  },
  {
   "attachments": {},
   "cell_type": "markdown",
   "metadata": {},
   "source": [
    "### Experiment 5.2\n",
    "\n",
    "Uses Pipe Network 250701 K709vs2-Export from 250701 K709vs2-Export.inp - this was the pipe network used in the Sheffield paper.\n",
    "\n",
    "#### Simulation parameters:\n",
    "- env: the network environment - 250701 K709vs2-Export\n",
    "- num_agents: the number of agents to create - 10\n",
    "- swarm: whether to use swarm intelligence - all of options will be tested\n",
    "- swarm_config: the swarm configuration - all of options will be tested\n",
    "- start_node: the start node for the simulation - 15 nodes from the start node pool\n",
    "- max_turns: the maximum number of turns to run the simulation - 100"
   ]
  },
  {
   "cell_type": "code",
   "execution_count": null,
   "metadata": {},
   "outputs": [],
   "source": [
    "start_nodes_2 = start_pool_2[:15]\n",
    "num_agents = 10\n",
    "max_turns = 100\n",
    "\n",
    "print(f\"Start nodes: {start_nodes_2}\")"
   ]
  },
  {
   "attachments": {},
   "cell_type": "markdown",
   "metadata": {},
   "source": [
    "#### Experiment 5.2.1\n",
    "- env: Net250701 K709vs2-Export\n",
    "- num_agents: 10\n",
    "- swarm: False\n",
    "- swarm_config: None\n",
    "- start_node: 15 nodes from start node pool\n",
    "- max_turns: 100\n",
    "- filepath: notable-results/Experiment5/Network2/NoSwarm"
   ]
  },
  {
   "cell_type": "code",
   "execution_count": null,
   "metadata": {},
   "outputs": [],
   "source": [
    "simulations_5_2_1 = []\n",
    "\n",
    "for start_node in start_nodes_2:\n",
    "    # Create the simulation\n",
    "    print(f\"Starting simulation with start node: {start_node}\")\n",
    "    sim = Simulation(env_2, num_agents=10, swarm=False, start_positions=[start_node], filepath=\"notable-results/Experiment-5/Network2/NoSwarm\")\n",
    "    simulations_5_2_1.append((start_node, sim.path_to_results_directory))\n",
    "    # Run the simulation\n",
    "    sim.run(max_turns=max_turns)\n",
    "    \n",
    "print(f\"Done: {simulations_5_2_1}\")"
   ]
  },
  {
   "cell_type": "code",
   "execution_count": null,
   "metadata": {},
   "outputs": [],
   "source": [
    "df_5_2_1 = pd.DataFrame()\n",
    "df_5_2_1 = filter_results(df_5_2_1, simulations_5_2_1, 'pct_links_explored')"
   ]
  },
  {
   "attachments": {},
   "cell_type": "markdown",
   "metadata": {},
   "source": [
    "#### Experiment 5.2.2\n",
    "- env: Net250701 K709vs2-Export\n",
    "- num_agents: 10\n",
    "- swarm: True\n",
    "- swarm_config: naive\n",
    "- start_node: 15 nodes from start node pool\n",
    "- max_turns: 100\n",
    "- filepath: notable-results/Experiment1/Network2/NaiveSwarm"
   ]
  },
  {
   "cell_type": "code",
   "execution_count": null,
   "metadata": {},
   "outputs": [],
   "source": [
    "swarm_config = {'swarm': True, 'swarm_type': 'naive'}\n",
    "\n",
    "simulations_5_2_2 = []\n",
    "\n",
    "for start_node in start_nodes_2:\n",
    "    # Create the simulation\n",
    "    print(f\"Starting simulation with start node: {start_node}\")\n",
    "    sim = Simulation(env_2, num_agents=10, swarm=True, swarm_config=swarm_config, start_positions=[start_node], filepath=\"notable-results/Experiment-5/Network2/NaiveSwarm\")\n",
    "    simulations_5_2_2.append((start_node, sim.path_to_results_directory))\n",
    "    # Run the simulation\n",
    "    sim.run(max_turns=max_turns)\n",
    "    \n",
    "print(f\"Done: {simulations_5_2_2}\")"
   ]
  },
  {
   "cell_type": "code",
   "execution_count": null,
   "metadata": {},
   "outputs": [],
   "source": [
    "df_5_2_2 = pd.DataFrame()\n",
    "df_5_2_2 = filter_results(df_5_2_2, simulations_5_2_2, 'pct_links_explored')"
   ]
  },
  {
   "attachments": {},
   "cell_type": "markdown",
   "metadata": {},
   "source": [
    "#### Experiment 5.2.3\n",
    "- env: Net250701 K709vs2-Export\n",
    "- num_agents: 10\n",
    "- swarm: True\n",
    "- swarm_config: informed, mean\n",
    "- start_node: 15 nodes from start node pool\n",
    "- max_turns: 100\n",
    "- filepath: notable-results/Experiment1/Network2/InformedMeanSwarm"
   ]
  },
  {
   "cell_type": "code",
   "execution_count": null,
   "metadata": {},
   "outputs": [],
   "source": [
    "swarm_config = {'swarm': True, 'swarm_type': 'informed', 'allocation_threshold': 'mean'}\n",
    "\n",
    "simulations_5_2_3 = []\n",
    "\n",
    "for start_node in start_nodes_2:\n",
    "    # Create the simulation\n",
    "    print(f\"Starting simulation with start node: {start_node}\")\n",
    "    sim = Simulation(env_2, num_agents=10, swarm=True, swarm_config=swarm_config, start_positions=[start_node], filepath=\"notable-results/Experiment-5/Network2/InformedMeanSwarm\")\n",
    "    simulations_5_2_3.append((start_node, sim.path_to_results_directory))\n",
    "    # Run the simulation\n",
    "    sim.run(max_turns=max_turns)\n",
    "    \n",
    "print(f\"Done: {simulations_5_2_3}\")"
   ]
  },
  {
   "cell_type": "code",
   "execution_count": null,
   "metadata": {},
   "outputs": [],
   "source": [
    "df_5_2_3 = pd.DataFrame()\n",
    "df_5_2_3 = filter_results(df_5_2_3, simulations_5_2_3, 'pct_links_explored')"
   ]
  },
  {
   "attachments": {},
   "cell_type": "markdown",
   "metadata": {},
   "source": [
    "#### Experiment 5.2.4\n",
    "- env: Net250701 K709vs2-Export\n",
    "- num_agents: 10\n",
    "- swarm: True\n",
    "- swarm_config: informed, median\n",
    "- start_node: 15 nodes from start node pool\n",
    "- max_turns: 100\n",
    "- filepath: notable-results/Experiment1/Network2/InformedMedianSwarm"
   ]
  },
  {
   "cell_type": "code",
   "execution_count": null,
   "metadata": {},
   "outputs": [],
   "source": [
    "swarm_config = {'swarm': True, 'swarm_type': 'informed', 'allocation_threshold': 'median'}\n",
    "\n",
    "simulations_5_2_4 = []\n",
    "\n",
    "for start_node in start_nodes_2:\n",
    "    # Create the simulation\n",
    "    print(f\"Starting simulation with start node: {start_node}\")\n",
    "    sim = Simulation(env_2, num_agents=10, swarm=True, swarm_config=swarm_config, start_positions=[start_node], filepath=\"notable-results/Experiment-5/Network2/InformedMedianSwarm\")\n",
    "    simulations_5_2_4.append((start_node, sim.path_to_results_directory))\n",
    "    # Run the simulation\n",
    "    sim.run(max_turns=max_turns)\n",
    "    \n",
    "print(f\"Done: {simulations_5_2_4}\")"
   ]
  },
  {
   "cell_type": "code",
   "execution_count": null,
   "metadata": {},
   "outputs": [],
   "source": [
    "df_5_2_4 = pd.DataFrame()\n",
    "df_5_2_4 = filter_results(df_5_2_4, simulations_5_2_4, 'pct_links_explored')"
   ]
  },
  {
   "cell_type": "markdown",
   "metadata": {},
   "source": [
    "## Analysis"
   ]
  },
  {
   "cell_type": "code",
   "execution_count": null,
   "metadata": {},
   "outputs": [],
   "source": [
    "# Function to create a dataframe with the results of the experiment\n",
    "from typing import List\n",
    "\n",
    "def create_dataframe(swarm_types:list, experiment_dataframes:List[pd.DataFrame]):\n",
    "    # Create a new dataframe\n",
    "    df = pd.DataFrame()\n",
    "    # Zip the swarm types and the dataframes together\n",
    "    for swarm_type, dataframe in zip(swarm_types, experiment_dataframes):\n",
    "        df[f'{swarm_type}-mean'] = dataframe.loc['mean']\n",
    "        df[f'{swarm_type}-max'] = dataframe.loc['max']\n",
    "        df[f'{swarm_type}-min'] = dataframe.loc['min']\n",
    "        \n",
    "    # Drop any columns that are all NaN\n",
    "    df = df.dropna(axis=1, how='all')\n",
    "    \n",
    "    # Drop any rows that are all NaN\n",
    "    df = df.dropna(axis=0, how='all')\n",
    "        \n",
    "    # Return the dataframe\n",
    "    return df\n",
    "\n",
    "# Function to plot the error bars\n",
    "def plot_errorbar(df, swarm_type, ax, color, label, errorevery):\n",
    "    ax.errorbar(\n",
    "        df.index,\n",
    "        df[f'{swarm_type}-mean'],\n",
    "        yerr=[df[f'{swarm_type}-mean'] - df[f'{swarm_type}-min'], df[f'{swarm_type}-max'] - df[f'{swarm_type}-mean']],\n",
    "        errorevery=errorevery,\n",
    "        label=label,\n",
    "        color=color,\n",
    "        capsize=5)\n",
    "    \n",
    "# Function to fill in the area between the error bars\n",
    "def fill_area_between_min_and_max(dataframe, swarm_type, ax, colour='lightblue', alpha=0.3):\n",
    "    x = dataframe.index.astype(int)\n",
    "    y1 = dataframe[f'{swarm_type}-min'].astype(float)\n",
    "    y2 = dataframe[f'{swarm_type}-max'].astype(float)\n",
    "        \n",
    "    ax.fill_between(x, y1, y2, color=colour, alpha=alpha)\n",
    " \n",
    "# Function to plot the variance of the percentage explored (max - min for each turn)   \n",
    "def plot_variance(dataframe:pd.DataFrame, metric:str, ylim:tuple=(0,100)):\n",
    "    no_swarm_variance = dataframe['no-swarm-max'] - dataframe['no-swarm-min']\n",
    "    naive_swarm_variance = dataframe['naive-max'] - dataframe['naive-min']\n",
    "    informed_mean_swarm_variance = dataframe['informed-mean-max'] - dataframe['informed-mean-min']\n",
    "    informed_median_swarm_variance = dataframe['informed-median-max'] - dataframe['informed-median-min']\n",
    "    \n",
    "    fig, ax = plt.subplots(figsize=(10, 6))\n",
    "    \n",
    "    ax.plot(dataframe.index, no_swarm_variance, color='black', label='No Swarm')\n",
    "    ax.plot(dataframe.index, naive_swarm_variance, color='blue', label='Naive Swarm')\n",
    "    ax.plot(dataframe.index, informed_mean_swarm_variance, color='green', label='Informed Swarm (Mean)')\n",
    "    ax.plot(dataframe.index, informed_median_swarm_variance, color='red', label='Informed Swarm (Median)')\n",
    "    \n",
    "    if metric.lower().strip() == 'nodes':\n",
    "        ax.set_title(\"Variance of Percentage of Nodes Explored by Turn\")\n",
    "    elif metric.lower().strip() == 'links':\n",
    "        ax.set_title(\"Variance of Percentage of Links Explored by Turn\")\n",
    "        \n",
    "    ax.set_xlabel(\"Turn\")\n",
    "    ax.set_ylabel(\"Variance\")\n",
    "    \n",
    "    ax.legend()\n",
    "    \n",
    "    y_min, y_max = ylim\n",
    "    ax.set_ylim(y_min, y_max)\n",
    "    \n",
    "    plt.show()"
   ]
  },
  {
   "attachments": {},
   "cell_type": "markdown",
   "metadata": {},
   "source": [
    "### Experiment 5.1.X - Percentage Links Explored by Agents Analysis"
   ]
  },
  {
   "cell_type": "code",
   "execution_count": null,
   "metadata": {},
   "outputs": [],
   "source": [
    "swarm_types = ['no-swarm', 'naive', 'informed-mean', 'informed-median']\n",
    "experiment_dataframes = [df_5_1_1, df_5_1_2, df_5_1_3, df_5_1_4]\n",
    "\n",
    "experiment_5_1_results = create_dataframe(swarm_types, experiment_dataframes)\n",
    "\n",
    "# experiment_1_2_results"
   ]
  },
  {
   "cell_type": "code",
   "execution_count": null,
   "metadata": {},
   "outputs": [],
   "source": [
    "# Plot the avg results for each swarm type as a function of turns\n",
    "fig, ax = plt.subplots(figsize=(10, 6))\n",
    "\n",
    "# Plot the no swarm results with error bars\n",
    "plot_errorbar(experiment_5_1_results, 'no-swarm', ax, 'black', 'No Swarm', errorevery=(0,10))\n",
    "\n",
    "# Plot the naive swarm results with error bars\n",
    "plot_errorbar(experiment_5_1_results, 'naive', ax, 'blue', 'Naive Swarm', errorevery=(3,10))\n",
    "\n",
    "# Plot the informed swarm results\n",
    "plot_errorbar(experiment_5_1_results, 'informed-mean', ax, 'green', 'Informed Swarm (Mean)', errorevery=(6,10))\n",
    "\n",
    "# Plot the informed swarm results\n",
    "plot_errorbar(experiment_5_1_results, 'informed-median', ax, 'red', 'Informed Swarm (Median)', errorevery=(8,10))\n",
    "\n",
    "# Fill in the area between the error bars for the no swarm\n",
    "fill_area_between_min_and_max(experiment_5_1_results, 'no-swarm', ax, colour='black', alpha=0.15)\n",
    "\n",
    "# Fill in the area between the error bars for the naive swarm\n",
    "fill_area_between_min_and_max(experiment_5_1_results, 'naive', ax, colour='blue', alpha=0.15)\n",
    "\n",
    "# Fill in the area between the error bars for the informed swarm (mean)\n",
    "fill_area_between_min_and_max(experiment_5_1_results, 'informed-mean', ax, colour='green', alpha=0.15)\n",
    "\n",
    "# Fill in the area between the error bars for the informed swarm (median)\n",
    "fill_area_between_min_and_max(experiment_5_1_results, 'informed-median', ax, colour='red', alpha=0.15)\n",
    "\n",
    "# Set the title and labels\n",
    "ax.set_title(\"Average Percentage of Links Explored by Turn\")\n",
    "ax.set_xlabel(\"Turn\")\n",
    "ax.set_ylabel(\"Percentage Links Explored\")\n",
    "\n",
    "# Set the legend\n",
    "ax.legend()\n",
    "\n",
    "# Set the y axis to be between 0 and 100\n",
    "ax.set_ylim(0, 15)\n",
    "\n",
    "# Set the x axis to be between 0 and 100\n",
    "ax.set_xlim(0, 100)\n",
    "\n",
    "# Show the plot\n",
    "plt.show()"
   ]
  },
  {
   "cell_type": "code",
   "execution_count": null,
   "metadata": {},
   "outputs": [],
   "source": [
    "plot_variance(experiment_5_1_results, 'links', ylim=(0, 10))"
   ]
  },
  {
   "attachments": {},
   "cell_type": "markdown",
   "metadata": {},
   "source": [
    "### Experiment 5.2.X - Percentage Links Explored by Agents Analysis"
   ]
  },
  {
   "cell_type": "code",
   "execution_count": null,
   "metadata": {},
   "outputs": [],
   "source": [
    "swarm_types = ['no-swarm', 'naive', 'informed-mean', 'informed-median']\n",
    "experiment_dataframes = [df_5_2_1, df_5_2_2, df_5_2_3, df_5_2_4]\n",
    "\n",
    "experiment_5_2_results = create_dataframe(swarm_types, experiment_dataframes)\n",
    "\n",
    "# experiment_1_2_results"
   ]
  },
  {
   "cell_type": "code",
   "execution_count": null,
   "metadata": {},
   "outputs": [],
   "source": [
    "# Plot the avg results for each swarm type as a function of turns\n",
    "fig, ax = plt.subplots(figsize=(10, 6))\n",
    "\n",
    "# Plot the no swarm results with error bars\n",
    "plot_errorbar(experiment_5_2_results, 'no-swarm', ax, 'black', 'No Swarm', errorevery=(0,10))\n",
    "\n",
    "# Plot the naive swarm results with error bars\n",
    "plot_errorbar(experiment_5_2_results, 'naive', ax, 'blue', 'Naive Swarm', errorevery=(3,10))\n",
    "\n",
    "# Plot the informed swarm results\n",
    "plot_errorbar(experiment_5_2_results, 'informed-mean', ax, 'green', 'Informed Swarm (Mean)', errorevery=(6,10))\n",
    "\n",
    "# Plot the informed swarm results\n",
    "plot_errorbar(experiment_5_2_results, 'informed-median', ax, 'red', 'Informed Swarm (Median)', errorevery=(8,10))\n",
    "\n",
    "# Fill in the area between the error bars for the no swarm\n",
    "fill_area_between_min_and_max(experiment_5_2_results, 'no-swarm', ax, colour='black', alpha=0.15)\n",
    "\n",
    "# Fill in the area between the error bars for the naive swarm\n",
    "fill_area_between_min_and_max(experiment_5_2_results, 'naive', ax, colour='blue', alpha=0.15)\n",
    "\n",
    "# Fill in the area between the error bars for the informed swarm (mean)\n",
    "fill_area_between_min_and_max(experiment_5_2_results, 'informed-mean', ax, colour='green', alpha=0.15)\n",
    "\n",
    "# Fill in the area between the error bars for the informed swarm (median)\n",
    "fill_area_between_min_and_max(experiment_5_2_results, 'informed-median', ax, colour='red', alpha=0.15)\n",
    "\n",
    "# Set the title and labels\n",
    "ax.set_title(\"Average Percentage of Links Explored by Turn\")\n",
    "ax.set_xlabel(\"Turn\")\n",
    "ax.set_ylabel(\"Percentage Links Explored\")\n",
    "\n",
    "# Set the legend\n",
    "ax.legend()\n",
    "\n",
    "# Set the y axis to be between 0 and 100\n",
    "ax.set_ylim(0, 15)\n",
    "\n",
    "# Set the x axis to be between 0 and 100\n",
    "ax.set_xlim(0, 100)\n",
    "\n",
    "# Show the plot\n",
    "plt.show()"
   ]
  },
  {
   "cell_type": "code",
   "execution_count": null,
   "metadata": {},
   "outputs": [],
   "source": [
    "plot_variance(experiment_5_2_results, 'links', ylim=(0, 10))"
   ]
  }
 ],
 "metadata": {
  "kernelspec": {
   "display_name": "env",
   "language": "python",
   "name": "python3"
  },
  "language_info": {
   "codemirror_mode": {
    "name": "ipython",
    "version": 3
   },
   "file_extension": ".py",
   "mimetype": "text/x-python",
   "name": "python",
   "nbconvert_exporter": "python",
   "pygments_lexer": "ipython3",
   "version": "3.8.10"
  },
  "orig_nbformat": 4
 },
 "nbformat": 4,
 "nbformat_minor": 2
}
