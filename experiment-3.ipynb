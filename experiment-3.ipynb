{
 "cells": [
  {
   "attachments": {},
   "cell_type": "markdown",
   "metadata": {},
   "source": [
    "# Experiment 3"
   ]
  },
  {
   "attachments": {},
   "cell_type": "markdown",
   "metadata": {},
   "source": [
    "Experiment 3 aims to explore the effect of swarm size on the performance of the swarm in exploring the pipe network."
   ]
  },
  {
   "cell_type": "code",
   "execution_count": 1,
   "metadata": {},
   "outputs": [],
   "source": [
    "import random\n",
    "random.seed(42)\n",
    "\n",
    "import numpy as np\n",
    "import pandas as pd\n",
    "import matplotlib.pyplot as plt\n",
    "\n",
    "import networkx as nx"
   ]
  },
  {
   "cell_type": "code",
   "execution_count": 2,
   "metadata": {},
   "outputs": [],
   "source": [
    "import logging\n",
    "\n",
    "from src.simulation import Simulation\n",
    "from src.network import Network\n",
    "from src.render import Render\n",
    "\n",
    "logging.disable(logging.CRITICAL)"
   ]
  },
  {
   "cell_type": "code",
   "execution_count": 3,
   "metadata": {},
   "outputs": [
    {
     "name": "stdout",
     "output_type": "stream",
     "text": [
      "Start Pool: ['15', '35', '131', '166', '167', '203', '219', '225', '231', '243', '253', 'River', 'Lake', '1', '2', '3']\n",
      "Number of Start Nodes: 16\n",
      "Number of Nodes: 97\n",
      "Number of Links: 119\n"
     ]
    }
   ],
   "source": [
    "# Relative Path to Network INP File\n",
    "network_file = \"networks/Net3.inp\"\n",
    "# Create the environment\n",
    "env = Network(network_file)\n",
    "# Get all the nodes in the network with degree = 1 - these are the possible start nodes\n",
    "g = env.water_network_model.to_graph().to_undirected()\n",
    "deg = g.degree\n",
    "start_pool = [node for node, degree in deg if degree == 1]\n",
    "print(f\"Start Pool: {start_pool}\")\n",
    "print(f\"Number of Start Nodes: {len(start_pool)}\")\n",
    "print(f\"Number of Nodes: {len(g.nodes)}\")\n",
    "print(f\"Number of Links: {len(g.edges)}\")"
   ]
  },
  {
   "attachments": {},
   "cell_type": "markdown",
   "metadata": {},
   "source": [
    "## Create simulations\n",
    "\n",
    "### Simulation parameters\n",
    "\n",
    "- env: the network environment\n",
    "- num_agents: the number of agents to create (this will vary)\n",
    "- swarm: whether to use swarm intelligence - all options will be tested\n",
    "- swarm_config: the configuration of the swarm - all options will be tested\n",
    "- start_node: the start node of the agents - a random node will be chosen from the start node pool\n",
    "- max_turns: the maximum number of turns to run the simulation for"
   ]
  },
  {
   "cell_type": "code",
   "execution_count": 88,
   "metadata": {},
   "outputs": [
    {
     "name": "stdout",
     "output_type": "stream",
     "text": [
      "Start Nodes: ['15', '35', '131', '166', '167', '203', '219', '225', '231', '243', '253', 'River', 'Lake', '1', '2']\n"
     ]
    }
   ],
   "source": [
    "start_nodes = start_pool[:15]\n",
    "number_of_agents = [10, 20, 30, 40, 50]\n",
    "max_turns = 500\n",
    "\n",
    "print(f\"Start Nodes: {start_nodes}\")"
   ]
  },
  {
   "attachments": {},
   "cell_type": "markdown",
   "metadata": {},
   "source": [
    "### Experiment 3.1\n",
    "\n",
    "- env: the network environment\n",
    "- num_agents: 10, 20, 30, 40, 50\n",
    "- swarm: False\n",
    "- swarm_config: None\n",
    "- start_node: a random node from the start node pool\n",
    "- max_turns: 1000\n",
    "- run_until_complete: True\n",
    "- metric: 'pct_links_explored'\n",
    "- filepath: notable-results/Experiment3/NoSwarm\n",
    "\n",
    "The simulation will run until 100% of the links in the network have been explored or the maximum number of turns has been reached."
   ]
  },
  {
   "cell_type": "code",
   "execution_count": 89,
   "metadata": {},
   "outputs": [
    {
     "name": "stdout",
     "output_type": "stream",
     "text": [
      "Number of Agents: 10 - Start Node: 15\n",
      "Number of Agents: 10 - Start Node: 35\n",
      "Number of Agents: 10 - Start Node: 131\n",
      "Number of Agents: 10 - Start Node: 166\n",
      "Number of Agents: 10 - Start Node: 167\n",
      "Number of Agents: 10 - Start Node: 203\n",
      "Number of Agents: 10 - Start Node: 219\n",
      "Number of Agents: 10 - Start Node: 225\n",
      "Number of Agents: 10 - Start Node: 231\n",
      "Number of Agents: 10 - Start Node: 243\n",
      "Number of Agents: 10 - Start Node: 253\n",
      "Number of Agents: 10 - Start Node: River\n",
      "Number of Agents: 10 - Start Node: Lake\n",
      "Number of Agents: 10 - Start Node: 1\n",
      "Number of Agents: 10 - Start Node: 2\n",
      "Number of Agents: 20 - Start Node: 15\n",
      "Number of Agents: 20 - Start Node: 35\n",
      "Number of Agents: 20 - Start Node: 131\n",
      "Number of Agents: 20 - Start Node: 166\n",
      "Number of Agents: 20 - Start Node: 167\n",
      "Number of Agents: 20 - Start Node: 203\n",
      "Number of Agents: 20 - Start Node: 219\n",
      "Number of Agents: 20 - Start Node: 225\n",
      "Number of Agents: 20 - Start Node: 231\n",
      "Number of Agents: 20 - Start Node: 243\n",
      "Number of Agents: 20 - Start Node: 253\n",
      "Number of Agents: 20 - Start Node: River\n",
      "Number of Agents: 20 - Start Node: Lake\n",
      "Number of Agents: 20 - Start Node: 1\n",
      "Number of Agents: 20 - Start Node: 2\n",
      "Number of Agents: 30 - Start Node: 15\n",
      "Number of Agents: 30 - Start Node: 35\n",
      "Number of Agents: 30 - Start Node: 131\n",
      "Number of Agents: 30 - Start Node: 166\n",
      "Number of Agents: 30 - Start Node: 167\n",
      "Number of Agents: 30 - Start Node: 203\n",
      "Number of Agents: 30 - Start Node: 219\n",
      "Number of Agents: 30 - Start Node: 225\n",
      "Number of Agents: 30 - Start Node: 231\n",
      "Number of Agents: 30 - Start Node: 243\n",
      "Number of Agents: 30 - Start Node: 253\n",
      "Number of Agents: 30 - Start Node: River\n",
      "Number of Agents: 30 - Start Node: Lake\n",
      "Number of Agents: 30 - Start Node: 1\n",
      "Number of Agents: 30 - Start Node: 2\n",
      "Number of Agents: 40 - Start Node: 15\n",
      "Number of Agents: 40 - Start Node: 35\n",
      "Number of Agents: 40 - Start Node: 131\n",
      "Number of Agents: 40 - Start Node: 166\n",
      "Number of Agents: 40 - Start Node: 167\n",
      "Number of Agents: 40 - Start Node: 203\n",
      "Number of Agents: 40 - Start Node: 219\n",
      "Number of Agents: 40 - Start Node: 225\n",
      "Number of Agents: 40 - Start Node: 231\n",
      "Number of Agents: 40 - Start Node: 243\n",
      "Number of Agents: 40 - Start Node: 253\n",
      "Number of Agents: 40 - Start Node: River\n",
      "Number of Agents: 40 - Start Node: Lake\n",
      "Number of Agents: 40 - Start Node: 1\n",
      "Number of Agents: 40 - Start Node: 2\n",
      "Number of Agents: 50 - Start Node: 15\n",
      "Number of Agents: 50 - Start Node: 35\n",
      "Number of Agents: 50 - Start Node: 131\n",
      "Number of Agents: 50 - Start Node: 166\n",
      "Number of Agents: 50 - Start Node: 167\n",
      "Number of Agents: 50 - Start Node: 203\n",
      "Number of Agents: 50 - Start Node: 219\n",
      "Number of Agents: 50 - Start Node: 225\n",
      "Number of Agents: 50 - Start Node: 231\n",
      "Number of Agents: 50 - Start Node: 243\n",
      "Number of Agents: 50 - Start Node: 253\n",
      "Number of Agents: 50 - Start Node: River\n",
      "Number of Agents: 50 - Start Node: Lake\n",
      "Number of Agents: 50 - Start Node: 1\n",
      "Number of Agents: 50 - Start Node: 2\n",
      "Done: [(10, 'notable-results/Experiment-3/NoSwarm/simulation_20230324_162211'), (10, 'notable-results/Experiment-3/NoSwarm/simulation_20230324_162213'), (10, 'notable-results/Experiment-3/NoSwarm/simulation_20230324_162215'), (10, 'notable-results/Experiment-3/NoSwarm/simulation_20230324_162216'), (10, 'notable-results/Experiment-3/NoSwarm/simulation_20230324_162217'), (10, 'notable-results/Experiment-3/NoSwarm/simulation_20230324_162218'), (10, 'notable-results/Experiment-3/NoSwarm/simulation_20230324_162220'), (10, 'notable-results/Experiment-3/NoSwarm/simulation_20230324_162221'), (10, 'notable-results/Experiment-3/NoSwarm/simulation_20230324_162223'), (10, 'notable-results/Experiment-3/NoSwarm/simulation_20230324_162224'), (10, 'notable-results/Experiment-3/NoSwarm/simulation_20230324_162226'), (10, 'notable-results/Experiment-3/NoSwarm/simulation_20230324_162227'), (10, 'notable-results/Experiment-3/NoSwarm/simulation_20230324_162228'), (10, 'notable-results/Experiment-3/NoSwarm/simulation_20230324_162230'), (10, 'notable-results/Experiment-3/NoSwarm/simulation_20230324_162231'), (20, 'notable-results/Experiment-3/NoSwarm/simulation_20230324_162232'), (20, 'notable-results/Experiment-3/NoSwarm/simulation_20230324_162234'), (20, 'notable-results/Experiment-3/NoSwarm/simulation_20230324_162235'), (20, 'notable-results/Experiment-3/NoSwarm/simulation_20230324_162236'), (20, 'notable-results/Experiment-3/NoSwarm/simulation_20230324_162237'), (20, 'notable-results/Experiment-3/NoSwarm/simulation_20230324_162238'), (20, 'notable-results/Experiment-3/NoSwarm/simulation_20230324_162239'), (20, 'notable-results/Experiment-3/NoSwarm/simulation_20230324_162241'), (20, 'notable-results/Experiment-3/NoSwarm/simulation_20230324_162242'), (20, 'notable-results/Experiment-3/NoSwarm/simulation_20230324_162243'), (20, 'notable-results/Experiment-3/NoSwarm/simulation_20230324_162244'), (20, 'notable-results/Experiment-3/NoSwarm/simulation_20230324_162245'), (20, 'notable-results/Experiment-3/NoSwarm/simulation_20230324_162246'), (20, 'notable-results/Experiment-3/NoSwarm/simulation_20230324_162248'), (20, 'notable-results/Experiment-3/NoSwarm/simulation_20230324_162249'), (30, 'notable-results/Experiment-3/NoSwarm/simulation_20230324_162250'), (30, 'notable-results/Experiment-3/NoSwarm/simulation_20230324_162251'), (30, 'notable-results/Experiment-3/NoSwarm/simulation_20230324_162252'), (30, 'notable-results/Experiment-3/NoSwarm/simulation_20230324_162254'), (30, 'notable-results/Experiment-3/NoSwarm/simulation_20230324_162255'), (30, 'notable-results/Experiment-3/NoSwarm/simulation_20230324_162257'), (30, 'notable-results/Experiment-3/NoSwarm/simulation_20230324_162259'), (30, 'notable-results/Experiment-3/NoSwarm/simulation_20230324_162300'), (30, 'notable-results/Experiment-3/NoSwarm/simulation_20230324_162301'), (30, 'notable-results/Experiment-3/NoSwarm/simulation_20230324_162303'), (30, 'notable-results/Experiment-3/NoSwarm/simulation_20230324_162304'), (30, 'notable-results/Experiment-3/NoSwarm/simulation_20230324_162306'), (30, 'notable-results/Experiment-3/NoSwarm/simulation_20230324_162307'), (30, 'notable-results/Experiment-3/NoSwarm/simulation_20230324_162309'), (30, 'notable-results/Experiment-3/NoSwarm/simulation_20230324_162310'), (40, 'notable-results/Experiment-3/NoSwarm/simulation_20230324_162312'), (40, 'notable-results/Experiment-3/NoSwarm/simulation_20230324_162313'), (40, 'notable-results/Experiment-3/NoSwarm/simulation_20230324_162316'), (40, 'notable-results/Experiment-3/NoSwarm/simulation_20230324_162318'), (40, 'notable-results/Experiment-3/NoSwarm/simulation_20230324_162319'), (40, 'notable-results/Experiment-3/NoSwarm/simulation_20230324_162321'), (40, 'notable-results/Experiment-3/NoSwarm/simulation_20230324_162323'), (40, 'notable-results/Experiment-3/NoSwarm/simulation_20230324_162325'), (40, 'notable-results/Experiment-3/NoSwarm/simulation_20230324_162326'), (40, 'notable-results/Experiment-3/NoSwarm/simulation_20230324_162328'), (40, 'notable-results/Experiment-3/NoSwarm/simulation_20230324_162330'), (40, 'notable-results/Experiment-3/NoSwarm/simulation_20230324_162332'), (40, 'notable-results/Experiment-3/NoSwarm/simulation_20230324_162334'), (40, 'notable-results/Experiment-3/NoSwarm/simulation_20230324_162336'), (40, 'notable-results/Experiment-3/NoSwarm/simulation_20230324_162338'), (50, 'notable-results/Experiment-3/NoSwarm/simulation_20230324_162339'), (50, 'notable-results/Experiment-3/NoSwarm/simulation_20230324_162341'), (50, 'notable-results/Experiment-3/NoSwarm/simulation_20230324_162343'), (50, 'notable-results/Experiment-3/NoSwarm/simulation_20230324_162344'), (50, 'notable-results/Experiment-3/NoSwarm/simulation_20230324_162346'), (50, 'notable-results/Experiment-3/NoSwarm/simulation_20230324_162347'), (50, 'notable-results/Experiment-3/NoSwarm/simulation_20230324_162349'), (50, 'notable-results/Experiment-3/NoSwarm/simulation_20230324_162350'), (50, 'notable-results/Experiment-3/NoSwarm/simulation_20230324_162352'), (50, 'notable-results/Experiment-3/NoSwarm/simulation_20230324_162354'), (50, 'notable-results/Experiment-3/NoSwarm/simulation_20230324_162355'), (50, 'notable-results/Experiment-3/NoSwarm/simulation_20230324_162357'), (50, 'notable-results/Experiment-3/NoSwarm/simulation_20230324_162359'), (50, 'notable-results/Experiment-3/NoSwarm/simulation_20230324_162400'), (50, 'notable-results/Experiment-3/NoSwarm/simulation_20230324_162402')]\n"
     ]
    }
   ],
   "source": [
    "simulations_3_1 = []\n",
    "\n",
    "for agent_num in number_of_agents:\n",
    "    for start_node in start_nodes:\n",
    "        print(f\"Number of Agents: {agent_num} - Start Node: {start_node}\")\n",
    "        sim = Simulation(env, num_agents=agent_num, swarm=False, start_positions=[start_node], filepath=\"notable-results/Experiment-3/NoSwarm\")\n",
    "        sim.run(max_turns=1000, run_until_complete=True, metric=\"pct_links_explored\")\n",
    "        simulations_3_1.append((agent_num, sim.path_to_results_directory))\n",
    "    \n",
    "print(f\"Done: {simulations_3_1}\")"
   ]
  },
  {
   "attachments": {},
   "cell_type": "markdown",
   "metadata": {},
   "source": [
    "### Experiment 3.2\n",
    "\n",
    "- env: the network environment\n",
    "- num_agents: 10, 20, 30, 40, 50\n",
    "- swarm: True\n",
    "- swarm_config: naive\n",
    "- start_node: a random node from the start node pool\n",
    "- max_turns: 1000\n",
    "- run_until_complete: True\n",
    "- metric: 'pct_links_explored'\n",
    "- filepath: notable-results/Experiment3/NaiveSwarm\n",
    "\n",
    "The simulation will run until 100% of the links in the network have been explored or the maximum number of turns has been reached."
   ]
  },
  {
   "cell_type": "code",
   "execution_count": 6,
   "metadata": {},
   "outputs": [
    {
     "name": "stdout",
     "output_type": "stream",
     "text": [
      "Number of Agents: 10 - Start Node: 166\n",
      "Number of Agents: 20 - Start Node: 166\n",
      "Number of Agents: 30 - Start Node: 166\n",
      "Number of Agents: 40 - Start Node: 166\n",
      "Number of Agents: 50 - Start Node: 166\n",
      "Done: [(10, 'notable-results/Experiment-3/NaiveSwarm/simulation_20230324_145248'), (20, 'notable-results/Experiment-3/NaiveSwarm/simulation_20230324_145249'), (30, 'notable-results/Experiment-3/NaiveSwarm/simulation_20230324_145249'), (40, 'notable-results/Experiment-3/NaiveSwarm/simulation_20230324_145250'), (50, 'notable-results/Experiment-3/NaiveSwarm/simulation_20230324_145250')]\n"
     ]
    }
   ],
   "source": [
    "swarm_config = {'swarm': True, 'swarm_type': 'naive'}\n",
    "\n",
    "simulations_3_2 = []\n",
    "\n",
    "for agent_num in number_of_agents:\n",
    "    print(f\"Number of Agents: {agent_num} - Start Node: {start_node}\")\n",
    "    sim = Simulation(env, num_agents=agent_num, swarm=True, swarm_config=swarm_config, start_positions=[start_node], filepath=\"notable-results/Experiment-3/NaiveSwarm\")\n",
    "    sim.run(max_turns=1000, run_until_complete=True, metric=\"pct_links_explored\")\n",
    "    simulations_3_2.append((agent_num, sim.path_to_results_directory))\n",
    "\n",
    "print(f\"Done: {simulations_3_2}\")"
   ]
  },
  {
   "attachments": {},
   "cell_type": "markdown",
   "metadata": {},
   "source": [
    "### Experiment 3.3\n",
    "\n",
    "- env: the network environment\n",
    "- num_agents: 10, 20, 30, 40, 50\n",
    "- swarm: True\n",
    "- swarm_config: informed, mean\n",
    "- start_node: a random node from the start node pool\n",
    "- max_turns: 1000\n",
    "- run_until_complete: True\n",
    "- metric: 'pct_links_explored'\n",
    "- filepath: notable-results/Experiment3/InformedMeanSwarm\n",
    "\n",
    "The simulation will run until 100% of the links in the network have been explored or the maximum number of turns has been reached."
   ]
  },
  {
   "cell_type": "code",
   "execution_count": 7,
   "metadata": {},
   "outputs": [
    {
     "name": "stdout",
     "output_type": "stream",
     "text": [
      "Number of Agents: 10 - Start Node: 166\n",
      "Number of Agents: 20 - Start Node: 166\n",
      "Number of Agents: 30 - Start Node: 166\n",
      "Number of Agents: 40 - Start Node: 166\n",
      "Number of Agents: 50 - Start Node: 166\n",
      "Done: [(10, 'notable-results/Experiment-3/InformedMeanSwarm/simulation_20230324_145251'), (20, 'notable-results/Experiment-3/InformedMeanSwarm/simulation_20230324_145252'), (30, 'notable-results/Experiment-3/InformedMeanSwarm/simulation_20230324_145252'), (40, 'notable-results/Experiment-3/InformedMeanSwarm/simulation_20230324_145253'), (50, 'notable-results/Experiment-3/InformedMeanSwarm/simulation_20230324_145253')]\n"
     ]
    }
   ],
   "source": [
    "swarm_config = {'swarm': True, 'swarm_type': 'informed', 'allocation_threshold': 'mean'}\n",
    "\n",
    "simulations_3_3 = []\n",
    "\n",
    "for agent_num in number_of_agents:\n",
    "    print(f\"Number of Agents: {agent_num} - Start Node: {start_node}\")\n",
    "    sim = Simulation(env, num_agents=agent_num, swarm=True, swarm_config=swarm_config, start_positions=[start_node], filepath=\"notable-results/Experiment-3/InformedMeanSwarm\")\n",
    "    sim.run(max_turns=1000, run_until_complete=True, metric=\"pct_links_explored\")\n",
    "    simulations_3_3.append((agent_num, sim.path_to_results_directory))\n",
    "\n",
    "print(f\"Done: {simulations_3_3}\")"
   ]
  },
  {
   "attachments": {},
   "cell_type": "markdown",
   "metadata": {},
   "source": [
    "### Experiment 3.4\n",
    "\n",
    "- env: the network environment\n",
    "- num_agents: 10, 20, 30, 40, 50\n",
    "- swarm: True\n",
    "- swarm_config: informed, median\n",
    "- start_node: a random node from the start node pool\n",
    "- max_turns: 1000\n",
    "- run_until_complete: True\n",
    "- metric: 'pct_links_explored'\n",
    "- filepath: notable-results/Experiment3/InformedMedianSwarm\n",
    "\n",
    "The simulation will run until 100% of the links in the network have been explored or the maximum number of turns has been reached."
   ]
  },
  {
   "cell_type": "code",
   "execution_count": 8,
   "metadata": {},
   "outputs": [
    {
     "name": "stdout",
     "output_type": "stream",
     "text": [
      "Number of Agents: 10 - Start Node: 166\n",
      "Number of Agents: 20 - Start Node: 166\n",
      "Number of Agents: 30 - Start Node: 166\n",
      "Number of Agents: 40 - Start Node: 166\n",
      "Number of Agents: 50 - Start Node: 166\n",
      "Done: [(10, 'notable-results/Experiment-3/InformedMedianSwarm/simulation_20230324_145254'), (20, 'notable-results/Experiment-3/InformedMedianSwarm/simulation_20230324_145255'), (30, 'notable-results/Experiment-3/InformedMedianSwarm/simulation_20230324_145255'), (40, 'notable-results/Experiment-3/InformedMedianSwarm/simulation_20230324_145256'), (50, 'notable-results/Experiment-3/InformedMedianSwarm/simulation_20230324_145256')]\n"
     ]
    }
   ],
   "source": [
    "swarm_config = {'swarm': True, 'swarm_type': 'informed', 'allocation_threshold': 'median'}\n",
    "\n",
    "simulations_3_4 = []\n",
    "\n",
    "for agent_num in number_of_agents:\n",
    "    print(f\"Number of Agents: {agent_num} - Start Node: {start_node}\")\n",
    "    sim = Simulation(env, num_agents=agent_num, swarm=True, swarm_config=swarm_config, start_positions=[start_node], filepath=\"notable-results/Experiment-3/InformedMedianSwarm\")\n",
    "    sim.run(max_turns=1000, run_until_complete=True, metric=\"pct_links_explored\")\n",
    "    simulations_3_4.append((agent_num, sim.path_to_results_directory))\n",
    "\n",
    "print(f\"Done: {simulations_3_4}\")"
   ]
  },
  {
   "attachments": {},
   "cell_type": "markdown",
   "metadata": {},
   "source": [
    "## Results"
   ]
  },
  {
   "cell_type": "code",
   "execution_count": 9,
   "metadata": {},
   "outputs": [],
   "source": [
    "# from typing import List\n",
    "\n",
    "# def filter_results(dataframe, simulations, data_of_interest):\n",
    "#     \"\"\"\n",
    "#     Filters the results of the simulations and returns a single dataframe with\n",
    "#     the consolidated results.\n",
    "#     \"\"\"\n",
    "#     for number_of_agents, path in simulations:\n",
    "#         temp = pd.read_csv(path + \"/results.csv\")\n",
    "        \n",
    "#         # Get the point at which the network is fully explored or the max turns is reached\n",
    "#         temp = temp[temp[data_of_interest] == temp[data_of_interest].max()]\n",
    "        \n",
    "#         # Add the number of agents to the dataframe\n",
    "#         temp['num_agents'] = number_of_agents\n",
    "        \n",
    "#         # Append the dataframe to the list\n",
    "#         dataframe = pd.concat([dataframe, temp])\n",
    "        \n",
    "#     return dataframe\n",
    "\n",
    "# def create_dataframe(swarm_types:list, experiment_dataframes:List[pd.DataFrame]):\n",
    "#     \"\"\"\n",
    "#     Creates a dataframe with the swarm type and the number of agents as the columns.\n",
    "#     The values are the number of links explored.\n",
    "#     \"\"\"\n",
    "#     df = pd.DataFrame()\n",
    "#     for swarm_type, experiment_dataframe in zip(swarm_types, experiment_dataframes):\n",
    "#         df[swarm_type] = experiment_dataframe['pct_links_explored']\n",
    "#     return df"
   ]
  },
  {
   "cell_type": "code",
   "execution_count": 10,
   "metadata": {},
   "outputs": [],
   "source": [
    "# # Create the dataframes\n",
    "# df_3_1 = pd.DataFrame()\n",
    "# df_3_1 = filter_results(df_3_1, simulations_3_1, 'pct_links_explored')\n",
    "\n",
    "# df_3_2 = pd.DataFrame()\n",
    "# df_3_2 = filter_results(df_3_2, simulations_3_2, 'pct_links_explored')\n",
    "\n",
    "# df_3_3 = pd.DataFrame()\n",
    "# df_3_3 = filter_results(df_3_3, simulations_3_3, 'pct_links_explored')\n",
    "\n",
    "# df_3_4 = pd.DataFrame()\n",
    "# df_3_4 = filter_results(df_3_4, simulations_3_4, 'pct_links_explored')"
   ]
  },
  {
   "attachments": {},
   "cell_type": "markdown",
   "metadata": {},
   "source": [
    "**What do I have?**\n",
    "\n",
    "csv files with the following columns:\n",
    "- turn number\n",
    "- the percentage of nodes explored at that turn\n",
    "- the percentage of links explored at that turn\n",
    "- the node novelty at that turn\n",
    "- the link novelty at that turn\n",
    "\n",
    "**What do I want?**\n",
    "\n",
    "Number of agents on the x-axis and the percentage of links explored on the y-axis?\n",
    "\n",
    "Number of agents on the x-axis and the percentage of nodes explored on the y-axis?\n",
    "\n",
    "Number of agents on the x-axis and the number of turns to explore 100% of the links on the y-axis?"
   ]
  },
  {
   "cell_type": "code",
   "execution_count": 11,
   "metadata": {},
   "outputs": [],
   "source": [
    "# from typing import List\n",
    "\n",
    "# def filter_results(dataframe, simulations, data_of_interest):\n",
    "\n",
    "# def create_dataframe(swarm_types:list, experiment_dataframes:List[pd.DataFrame]):\n",
    "#     \"\"\"\n",
    "#     Creates a dataframe with the swarm type and the number of agents as the columns.\n",
    "#     The values are the number of links explored.\n",
    "#     \"\"\"\n",
    "#     df = pd.DataFrame()\n",
    "#     for swarm_type, experiment_dataframe in zip(swarm_types, experiment_dataframes):\n",
    "#         df[swarm_type] = experiment_dataframe['pct_links_explored']\n",
    "#     return df"
   ]
  },
  {
   "cell_type": "code",
   "execution_count": 39,
   "metadata": {},
   "outputs": [],
   "source": [
    "\n",
    "results = pd.DataFrame()\n",
    "\n",
    "# Create a dataframe containing the results of all the simulations\n",
    "# The dataframe will have the number of agents as the columns and the swarm type\n",
    "# as the index and the data will be the turns required to fully explore the network\n",
    "# for each swarm type and number of agents combination\n",
    "\n",
    "# Create the dataframes\n",
    "df_3_1 = pd.DataFrame()\n",
    "for number_of_agents, path in simulations_3_1:\n",
    "    temp = pd.read_csv(path + \"/results.csv\")\n",
    "    temp = temp[['turn', 'pct_links_explored']]\n",
    "    temp = temp.max()\n",
    "    df_3_1[number_of_agents] = temp\n",
    "    \n",
    "df_3_2 = pd.DataFrame()\n",
    "for number_of_agents, path in simulations_3_2:\n",
    "    temp = pd.read_csv(path + \"/results.csv\")\n",
    "    temp = temp[['turn', 'pct_links_explored']]\n",
    "    temp = temp.max()\n",
    "    df_3_2[number_of_agents] = temp\n",
    "    \n",
    "df_3_3 = pd.DataFrame()\n",
    "for number_of_agents, path in simulations_3_3:\n",
    "    temp = pd.read_csv(path + \"/results.csv\")\n",
    "    temp = temp[['turn', 'pct_links_explored']]\n",
    "    temp = temp.max()\n",
    "    df_3_3[number_of_agents] = temp\n",
    "\n",
    "df_3_4 = pd.DataFrame()\n",
    "for number_of_agents, path in simulations_3_4:\n",
    "    temp = pd.read_csv(path + \"/results.csv\")\n",
    "    temp = temp[['turn', 'pct_links_explored']]\n",
    "    temp = temp.max()\n",
    "    df_3_4[number_of_agents] = temp"
   ]
  },
  {
   "cell_type": "code",
   "execution_count": 40,
   "metadata": {},
   "outputs": [
    {
     "data": {
      "text/html": [
       "<div>\n",
       "<style scoped>\n",
       "    .dataframe tbody tr th:only-of-type {\n",
       "        vertical-align: middle;\n",
       "    }\n",
       "\n",
       "    .dataframe tbody tr th {\n",
       "        vertical-align: top;\n",
       "    }\n",
       "\n",
       "    .dataframe thead th {\n",
       "        text-align: right;\n",
       "    }\n",
       "</style>\n",
       "<table border=\"1\" class=\"dataframe\">\n",
       "  <thead>\n",
       "    <tr style=\"text-align: right;\">\n",
       "      <th></th>\n",
       "      <th>10</th>\n",
       "      <th>20</th>\n",
       "      <th>30</th>\n",
       "      <th>40</th>\n",
       "      <th>50</th>\n",
       "    </tr>\n",
       "  </thead>\n",
       "  <tbody>\n",
       "    <tr>\n",
       "      <th>turn</th>\n",
       "      <td>999.00000</td>\n",
       "      <td>999.00000</td>\n",
       "      <td>999.00000</td>\n",
       "      <td>999.00000</td>\n",
       "      <td>999.00000</td>\n",
       "    </tr>\n",
       "    <tr>\n",
       "      <th>pct_links_explored</th>\n",
       "      <td>52.10084</td>\n",
       "      <td>52.10084</td>\n",
       "      <td>52.10084</td>\n",
       "      <td>52.10084</td>\n",
       "      <td>52.10084</td>\n",
       "    </tr>\n",
       "  </tbody>\n",
       "</table>\n",
       "</div>"
      ],
      "text/plain": [
       "                           10         20         30         40         50\n",
       "turn                999.00000  999.00000  999.00000  999.00000  999.00000\n",
       "pct_links_explored   52.10084   52.10084   52.10084   52.10084   52.10084"
      ]
     },
     "execution_count": 40,
     "metadata": {},
     "output_type": "execute_result"
    }
   ],
   "source": [
    "df_3_1"
   ]
  },
  {
   "cell_type": "code",
   "execution_count": 41,
   "metadata": {},
   "outputs": [
    {
     "data": {
      "text/html": [
       "<div>\n",
       "<style scoped>\n",
       "    .dataframe tbody tr th:only-of-type {\n",
       "        vertical-align: middle;\n",
       "    }\n",
       "\n",
       "    .dataframe tbody tr th {\n",
       "        vertical-align: top;\n",
       "    }\n",
       "\n",
       "    .dataframe thead th {\n",
       "        text-align: right;\n",
       "    }\n",
       "</style>\n",
       "<table border=\"1\" class=\"dataframe\">\n",
       "  <thead>\n",
       "    <tr style=\"text-align: right;\">\n",
       "      <th></th>\n",
       "      <th>10</th>\n",
       "      <th>20</th>\n",
       "      <th>30</th>\n",
       "      <th>40</th>\n",
       "      <th>50</th>\n",
       "    </tr>\n",
       "  </thead>\n",
       "  <tbody>\n",
       "    <tr>\n",
       "      <th>turn</th>\n",
       "      <td>132.0</td>\n",
       "      <td>69.0</td>\n",
       "      <td>69.0</td>\n",
       "      <td>54.0</td>\n",
       "      <td>54.0</td>\n",
       "    </tr>\n",
       "    <tr>\n",
       "      <th>pct_links_explored</th>\n",
       "      <td>100.0</td>\n",
       "      <td>100.0</td>\n",
       "      <td>100.0</td>\n",
       "      <td>100.0</td>\n",
       "      <td>100.0</td>\n",
       "    </tr>\n",
       "  </tbody>\n",
       "</table>\n",
       "</div>"
      ],
      "text/plain": [
       "                       10     20     30     40     50\n",
       "turn                132.0   69.0   69.0   54.0   54.0\n",
       "pct_links_explored  100.0  100.0  100.0  100.0  100.0"
      ]
     },
     "execution_count": 41,
     "metadata": {},
     "output_type": "execute_result"
    }
   ],
   "source": [
    "df_3_2"
   ]
  },
  {
   "cell_type": "code",
   "execution_count": 42,
   "metadata": {},
   "outputs": [
    {
     "data": {
      "text/html": [
       "<div>\n",
       "<style scoped>\n",
       "    .dataframe tbody tr th:only-of-type {\n",
       "        vertical-align: middle;\n",
       "    }\n",
       "\n",
       "    .dataframe tbody tr th {\n",
       "        vertical-align: top;\n",
       "    }\n",
       "\n",
       "    .dataframe thead th {\n",
       "        text-align: right;\n",
       "    }\n",
       "</style>\n",
       "<table border=\"1\" class=\"dataframe\">\n",
       "  <thead>\n",
       "    <tr style=\"text-align: right;\">\n",
       "      <th></th>\n",
       "      <th>10</th>\n",
       "      <th>20</th>\n",
       "      <th>30</th>\n",
       "      <th>40</th>\n",
       "      <th>50</th>\n",
       "    </tr>\n",
       "  </thead>\n",
       "  <tbody>\n",
       "    <tr>\n",
       "      <th>turn</th>\n",
       "      <td>121.0</td>\n",
       "      <td>48.0</td>\n",
       "      <td>48.0</td>\n",
       "      <td>48.0</td>\n",
       "      <td>48.0</td>\n",
       "    </tr>\n",
       "    <tr>\n",
       "      <th>pct_links_explored</th>\n",
       "      <td>100.0</td>\n",
       "      <td>100.0</td>\n",
       "      <td>100.0</td>\n",
       "      <td>100.0</td>\n",
       "      <td>100.0</td>\n",
       "    </tr>\n",
       "  </tbody>\n",
       "</table>\n",
       "</div>"
      ],
      "text/plain": [
       "                       10     20     30     40     50\n",
       "turn                121.0   48.0   48.0   48.0   48.0\n",
       "pct_links_explored  100.0  100.0  100.0  100.0  100.0"
      ]
     },
     "execution_count": 42,
     "metadata": {},
     "output_type": "execute_result"
    }
   ],
   "source": [
    "df_3_3"
   ]
  },
  {
   "cell_type": "code",
   "execution_count": 43,
   "metadata": {},
   "outputs": [
    {
     "data": {
      "text/html": [
       "<div>\n",
       "<style scoped>\n",
       "    .dataframe tbody tr th:only-of-type {\n",
       "        vertical-align: middle;\n",
       "    }\n",
       "\n",
       "    .dataframe tbody tr th {\n",
       "        vertical-align: top;\n",
       "    }\n",
       "\n",
       "    .dataframe thead th {\n",
       "        text-align: right;\n",
       "    }\n",
       "</style>\n",
       "<table border=\"1\" class=\"dataframe\">\n",
       "  <thead>\n",
       "    <tr style=\"text-align: right;\">\n",
       "      <th></th>\n",
       "      <th>10</th>\n",
       "      <th>20</th>\n",
       "      <th>30</th>\n",
       "      <th>40</th>\n",
       "      <th>50</th>\n",
       "    </tr>\n",
       "  </thead>\n",
       "  <tbody>\n",
       "    <tr>\n",
       "      <th>turn</th>\n",
       "      <td>121.0</td>\n",
       "      <td>48.0</td>\n",
       "      <td>48.0</td>\n",
       "      <td>48.0</td>\n",
       "      <td>48.0</td>\n",
       "    </tr>\n",
       "    <tr>\n",
       "      <th>pct_links_explored</th>\n",
       "      <td>100.0</td>\n",
       "      <td>100.0</td>\n",
       "      <td>100.0</td>\n",
       "      <td>100.0</td>\n",
       "      <td>100.0</td>\n",
       "    </tr>\n",
       "  </tbody>\n",
       "</table>\n",
       "</div>"
      ],
      "text/plain": [
       "                       10     20     30     40     50\n",
       "turn                121.0   48.0   48.0   48.0   48.0\n",
       "pct_links_explored  100.0  100.0  100.0  100.0  100.0"
      ]
     },
     "execution_count": 43,
     "metadata": {},
     "output_type": "execute_result"
    }
   ],
   "source": [
    "df_3_4"
   ]
  },
  {
   "cell_type": "code",
   "execution_count": 46,
   "metadata": {},
   "outputs": [
    {
     "data": {
      "text/html": [
       "<div>\n",
       "<style scoped>\n",
       "    .dataframe tbody tr th:only-of-type {\n",
       "        vertical-align: middle;\n",
       "    }\n",
       "\n",
       "    .dataframe tbody tr th {\n",
       "        vertical-align: top;\n",
       "    }\n",
       "\n",
       "    .dataframe thead th {\n",
       "        text-align: right;\n",
       "    }\n",
       "</style>\n",
       "<table border=\"1\" class=\"dataframe\">\n",
       "  <thead>\n",
       "    <tr style=\"text-align: right;\">\n",
       "      <th>Number of Agents</th>\n",
       "      <th>10</th>\n",
       "      <th>20</th>\n",
       "      <th>30</th>\n",
       "      <th>40</th>\n",
       "      <th>50</th>\n",
       "    </tr>\n",
       "    <tr>\n",
       "      <th>Swarm Type</th>\n",
       "      <th></th>\n",
       "      <th></th>\n",
       "      <th></th>\n",
       "      <th></th>\n",
       "      <th></th>\n",
       "    </tr>\n",
       "  </thead>\n",
       "  <tbody>\n",
       "    <tr>\n",
       "      <th>no-swarm</th>\n",
       "      <td>999.0</td>\n",
       "      <td>999.0</td>\n",
       "      <td>999.0</td>\n",
       "      <td>999.0</td>\n",
       "      <td>999.0</td>\n",
       "    </tr>\n",
       "    <tr>\n",
       "      <th>naive</th>\n",
       "      <td>132.0</td>\n",
       "      <td>69.0</td>\n",
       "      <td>69.0</td>\n",
       "      <td>54.0</td>\n",
       "      <td>54.0</td>\n",
       "    </tr>\n",
       "    <tr>\n",
       "      <th>informed-mean</th>\n",
       "      <td>121.0</td>\n",
       "      <td>48.0</td>\n",
       "      <td>48.0</td>\n",
       "      <td>48.0</td>\n",
       "      <td>48.0</td>\n",
       "    </tr>\n",
       "    <tr>\n",
       "      <th>informed-median</th>\n",
       "      <td>121.0</td>\n",
       "      <td>48.0</td>\n",
       "      <td>48.0</td>\n",
       "      <td>48.0</td>\n",
       "      <td>48.0</td>\n",
       "    </tr>\n",
       "  </tbody>\n",
       "</table>\n",
       "</div>"
      ],
      "text/plain": [
       "Number of Agents     10     20     30     40     50\n",
       "Swarm Type                                         \n",
       "no-swarm          999.0  999.0  999.0  999.0  999.0\n",
       "naive             132.0   69.0   69.0   54.0   54.0\n",
       "informed-mean     121.0   48.0   48.0   48.0   48.0\n",
       "informed-median   121.0   48.0   48.0   48.0   48.0"
      ]
     },
     "execution_count": 46,
     "metadata": {},
     "output_type": "execute_result"
    }
   ],
   "source": [
    "# Create the dataframe with the swarm type as the index and the number of agents as the columns\n",
    "swarm_types = ['no-swarm', 'naive', 'informed-mean', 'informed-median']\n",
    "experiment_dataframes = [df_3_1, df_3_2, df_3_3, df_3_4]\n",
    "number_of_agents = [10, 20, 30, 40, 50]\n",
    "\n",
    "results = pd.DataFrame()\n",
    "results.index.name = 'Swarm Type'\n",
    "results.columns.name = 'Number of Agents'\n",
    "\n",
    "for num in number_of_agents:\n",
    "    for swarm_type in swarm_types:\n",
    "        results.loc[swarm_type, num] = experiment_dataframes[swarm_types.index(swarm_type)][num][0]\n",
    "    \n",
    "results"
   ]
  },
  {
   "cell_type": "code",
   "execution_count": 87,
   "metadata": {},
   "outputs": [
    {
     "data": {
      "image/png": "[encoded data removed]",
      "text/plain": [
       "<Figure size 1000x600 with 2 Axes>"
      ]
     },
     "metadata": {},
     "output_type": "display_data"
    }
   ],
   "source": [
    "# Plot the results\n",
    "fig, (ax1, ax2) = plt.subplots(2, 1, sharex=True, figsize=(10, 6))\n",
    "fig.subplots_adjust(hspace=0.05)\n",
    "\n",
    "ax1.plot(results.columns, results.loc['no-swarm'], label='No Swarm')\n",
    "ax2.plot(results.columns, results.loc['naive'], label='Naive')\n",
    "ax2.plot(results.columns, results.loc['informed-mean'], label='Informed Mean', linestyle='-')\n",
    "ax2.plot(results.columns, results.loc['informed-median'], label='Informed Median', linestyle='--')\n",
    "\n",
    "ax1.set_ylim(990, 1000)\n",
    "ax2.set_ylim(40, 150)\n",
    "\n",
    "ax1.spines.bottom.set_visible(False)\n",
    "ax2.spines.top.set_visible(False)\n",
    "ax1.xaxis.tick_top()\n",
    "ax1.tick_params(labeltop=False)  # don't put tick labels at the top\n",
    "ax2.xaxis.tick_bottom()\n",
    "\n",
    "d = .5\n",
    "kwargs = dict(marker=[(-1, -d), (1, d)], markersize=9,\n",
    "              linestyle=\"none\", color='k', mec='k', mew=1, clip_on=False)\n",
    "ax1.plot([0, 1], [0, 0], transform=ax1.transAxes, **kwargs)\n",
    "ax2.plot([0, 1], [1, 1], transform=ax2.transAxes, **kwargs)\n",
    "\n",
    "plt.show()"
   ]
  }
 ],
 "metadata": {
  "kernelspec": {
   "display_name": "env",
   "language": "python",
   "name": "python3"
  },
  "language_info": {
   "codemirror_mode": {
    "name": "ipython",
    "version": 3
   },
   "file_extension": ".py",
   "mimetype": "text/x-python",
   "name": "python",
   "nbconvert_exporter": "python",
   "pygments_lexer": "ipython3",
   "version": "3.8.10"
  },
  "orig_nbformat": 4
 },
 "nbformat": 4,
 "nbformat_minor": 2
}
