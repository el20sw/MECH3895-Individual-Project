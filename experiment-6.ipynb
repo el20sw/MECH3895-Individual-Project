{
 "cells": [
  {
   "attachments": {},
   "cell_type": "markdown",
   "metadata": {},
   "source": [
    "# Experiment 6\n",
    "\n",
    "This experiment will explore agent performance in three pipe networks, Net3 (WNTR example - real network), 250701 K709vs2-Export (Sheffield example - real network), and Net6 (WNTR example and Paper one - real network).\n",
    "\n",
    "Metrics that will be examined, percentage explored of nodes and links over 100 turns, absolute number of nodes and links explored over 100 turns, the node and links novelty scores over 100 turns and the stability of each control strategy with respect to starting positions of agents in the networks."
   ]
  },
  {
   "cell_type": "code",
   "execution_count": null,
   "metadata": {},
   "outputs": [],
   "source": [
    "## Imports\n",
    "\n",
    "import numpy as np\n",
    "import pandas as pd\n",
    "import seaborn as sns\n",
    "import scipy.stats as stats\n",
    "import matplotlib.pyplot as plt\n",
    "import networkx as nx\n",
    "\n",
    "import logging\n",
    "\n",
    "from src.simulation import Simulation\n",
    "from src.network import Network\n",
    "from src.render import Render\n",
    "\n",
    "logging.disable(logging.CRITICAL)"
   ]
  },
  {
   "cell_type": "code",
   "execution_count": null,
   "metadata": {},
   "outputs": [],
   "source": [
    "network_file_1 = \"networks/Environment1.inp\"\n",
    "network_file_2 = \"networks/Environment2.inp\"\n",
    "network_file_3 = \"networks/Environment3.inp\"\n",
    "\n",
    "env1 = Network(network_file_1)\n",
    "env2 = Network(network_file_2)\n",
    "env3 = Network(network_file_3)\n",
    "\n",
    "g_env1 = env1.water_network_model.to_graph().to_undirected()\n",
    "g_env2 = env2.water_network_model.to_graph().to_undirected()\n",
    "g_env3 = env3.water_network_model.to_graph().to_undirected()\n",
    "\n",
    "d_env1 = g_env1.degree\n",
    "d_env2 = g_env2.degree\n",
    "d_env3 = g_env3.degree\n",
    "\n",
    "env1_start_pool = [node for node, degree in d_env1 if degree == 1]\n",
    "env2_start_pool = [node for node, degree in d_env2 if degree == 1]\n",
    "env3_start_pool = [node for node, degree in d_env3 if degree == 1]\n",
    "\n",
    "env1_num_links = env1.graph_num_links\n",
    "env2_num_links = env2.graph_num_links\n",
    "env3_num_links = env3.graph_num_links\n",
    "\n",
    "print(\"Start Pool - Environment1: \", env1_start_pool)\n",
    "print(\"Number of Start Nodes - Environment1: \", len(env1_start_pool))\n",
    "print(\"Number of Nodes - Environment1: \", env1.graph_num_nodes)\n",
    "print(\"Number of Links - Environment1: \", env1.graph_num_links)\n",
    "\n",
    "print(\"Start Pool - Environment2: \", env2_start_pool)\n",
    "print(\"Number of Start Nodes - Environment2: \", len(env2_start_pool))\n",
    "print(\"Number of Nodes - Environment2: \", env2.graph_num_nodes)\n",
    "print(\"Number of Links - Environment2: \", env2.graph_num_links)\n",
    "\n",
    "print(\"Start Pool - Environment3: \", env3_start_pool)\n",
    "print(\"Number of Start Nodes - Environment3: \", len(env3_start_pool))\n",
    "print(\"Number of Nodes - Environment3: \", env3.graph_num_nodes)\n",
    "print(\"Number of Links - Environment3: \", env3.graph_num_links)"
   ]
  },
  {
   "cell_type": "code",
   "execution_count": null,
   "metadata": {},
   "outputs": [],
   "source": [
    "def run_simulation_batch(env, num_agents, start_nodes, filepath, max_turns=100):\n",
    "    print(\"Starting Simulation Batch - \", filepath)\n",
    "    print(\"Number of Agents: \", num_agents)\n",
    "    print(\"Start Nodes: \", start_nodes)\n",
    "    print(\"Max Turns: \", max_turns)\n",
    "    \n",
    "    # Run the simulations for no swarm control\n",
    "    path = f'{filepath}/NoSwarm'\n",
    "    simulations_1 = []\n",
    "    for node in start_nodes:\n",
    "        print(\"Starting No Swarm Simulation from Start Node: \", node)\n",
    "        sim = Simulation(env, num_agents, swarm=False, start_positions=[node], filepath=path)\n",
    "        simulations_1.append((node, sim.path_to_results_directory))\n",
    "        sim.run(max_turns=max_turns)\n",
    "    yield simulations_1\n",
    "    \n",
    "    # Run the simulations for naive swarm control\n",
    "    path = f'{filepath}/NaiveSwarm'\n",
    "    swarm_config = {'swarm': True, 'swarm_type': 'naive'}\n",
    "    simulations_2 = []\n",
    "    for node in start_nodes:\n",
    "        print(\"Starting Naive Swarm Simulation from Start Node: \", node)\n",
    "        sim = Simulation(env, num_agents, swarm=True, swarm_config=swarm_config, start_positions=[node], filepath=path)\n",
    "        simulations_2.append((node, sim.path_to_results_directory))\n",
    "        sim.run(max_turns=max_turns)\n",
    "    yield simulations_2\n",
    "    \n",
    "    # Run the simulations for informed mean swarm control\n",
    "    path = f'{filepath}/InformedMeanSwarm'\n",
    "    swarm_config = {'swarm': True, 'swarm_type': 'informed', 'allocation_threshold': 'mean'}\n",
    "    simulations_3 = []\n",
    "    for node in start_nodes:\n",
    "        print(\"Starting Informed Mean Swarm Simulation from Start Node: \", node)\n",
    "        sim = Simulation(env, num_agents, swarm=True, swarm_config=swarm_config, start_positions=[node], filepath=path)\n",
    "        simulations_3.append((node, sim.path_to_results_directory))\n",
    "        sim.run(max_turns=max_turns)    \n",
    "    yield simulations_3\n",
    "    \n",
    "    # Run the simulations for informed median swarm control\n",
    "    path = f'{filepath}/InformedMedianSwarm'\n",
    "    swarm_config = {'swarm': True, 'swarm_type': 'informed', 'allocation_threshold': 'median'}\n",
    "    simulations_4 = []\n",
    "    for node in start_nodes:\n",
    "        print(\"Starting Informed Median Swarm Simulation from Start Node: \", node)\n",
    "        sim = Simulation(env, num_agents, swarm=True, swarm_config=swarm_config, start_positions=[node], filepath=path)\n",
    "        simulations_4.append((node, sim.path_to_results_directory))\n",
    "        sim.run(max_turns=max_turns)\n",
    "    yield simulations_4"
   ]
  },
  {
   "attachments": {},
   "cell_type": "markdown",
   "metadata": {},
   "source": [
    "## Simulation 6.1\n",
    "\n",
    "This set of simulations will focus on `env1`. There will be 10 agents, and the number of turns will be 100. In each simulation, all agents will begin at the same start node though to reduce the influence of the starting position on the final resuslts, the simulation will be run 15 times with the first 15 nodes in the starting node pool as the agent starting positions. The number of unique links explored will be recorded for each simulation."
   ]
  },
  {
   "cell_type": "code",
   "execution_count": null,
   "metadata": {},
   "outputs": [],
   "source": [
    "start_nodes = env1_start_pool[:15]\n",
    "num_agents = 10\n",
    "max_turns = 100\n",
    "filepath = \"notable-results/Experiment-6/Env1\"\n",
    "\n",
    "print(\"Start Nodes: \", start_nodes)"
   ]
  },
  {
   "cell_type": "code",
   "execution_count": null,
   "metadata": {},
   "outputs": [],
   "source": [
    "simulations_6_1 = run_simulation_batch(env1, num_agents, start_nodes, filepath, max_turns=max_turns)"
   ]
  },
  {
   "cell_type": "code",
   "execution_count": null,
   "metadata": {},
   "outputs": [],
   "source": [
    "no_swarm_env1 = next(simulations_6_1)"
   ]
  },
  {
   "cell_type": "code",
   "execution_count": null,
   "metadata": {},
   "outputs": [],
   "source": [
    "naive_swarm_env1 = next(simulations_6_1)"
   ]
  },
  {
   "cell_type": "code",
   "execution_count": null,
   "metadata": {},
   "outputs": [],
   "source": [
    "informed_mean_swarm_env1 = next(simulations_6_1)"
   ]
  },
  {
   "cell_type": "code",
   "execution_count": null,
   "metadata": {},
   "outputs": [],
   "source": [
    "informed_median_swarm_env1 = next(simulations_6_1)"
   ]
  },
  {
   "attachments": {},
   "cell_type": "markdown",
   "metadata": {},
   "source": [
    "## Simulation 6.2\n",
    "\n",
    "This set of simulations will focus on `env2`. There will be 10 agents, and the number of turns will be 100. In each simulation, all agents will begin at the same start node though to reduce the influence of the starting position on the final resuslts, the simulation will be run 15 times with the first 15 nodes in the starting node pool as the agent starting positions. The number of unique links explored will be recorded for each simulation."
   ]
  },
  {
   "cell_type": "code",
   "execution_count": null,
   "metadata": {},
   "outputs": [],
   "source": [
    "start_nodes = env2_start_pool[:15]\n",
    "num_agents = 10\n",
    "max_turns = 100\n",
    "filepath = \"notable-results/Experiment-6/Env2\"\n",
    "\n",
    "print(\"Start Nodes: \", start_nodes)"
   ]
  },
  {
   "cell_type": "code",
   "execution_count": null,
   "metadata": {},
   "outputs": [],
   "source": [
    "simulations_6_2 = run_simulation_batch(env2, num_agents, start_nodes, filepath, max_turns=max_turns)"
   ]
  },
  {
   "cell_type": "code",
   "execution_count": null,
   "metadata": {},
   "outputs": [],
   "source": [
    "no_swarm_env2 = next(simulations_6_2)"
   ]
  },
  {
   "cell_type": "code",
   "execution_count": null,
   "metadata": {},
   "outputs": [],
   "source": [
    "naive_swarm_env2 = next(simulations_6_2)"
   ]
  },
  {
   "cell_type": "code",
   "execution_count": null,
   "metadata": {},
   "outputs": [],
   "source": [
    "informed_mean_swarm_env2 = next(simulations_6_2)"
   ]
  },
  {
   "cell_type": "code",
   "execution_count": null,
   "metadata": {},
   "outputs": [],
   "source": [
    "informed_median_swarm_env2 = next(simulations_6_2)"
   ]
  },
  {
   "attachments": {},
   "cell_type": "markdown",
   "metadata": {},
   "source": [
    "## Simulation 6.3\n",
    "\n",
    "This set of simulations will focus on `env3`. There will be 10 agents, and the number of turns will be 100. In each simulation, all agents will begin at the same start node though to reduce the influence of the starting position on the final resuslts, the simulation will be run 15 times with the first 15 nodes in the starting node pool as the agent starting positions. The number of unique links explored will be recorded for each simulation."
   ]
  },
  {
   "cell_type": "code",
   "execution_count": null,
   "metadata": {},
   "outputs": [],
   "source": [
    "start_nodes = env3_start_pool[:15]\n",
    "num_agents = 10\n",
    "max_turns = 100\n",
    "filepath = \"notable-results/Experiment-6/Env3\"\n",
    "\n",
    "print(\"Start Nodes: \", start_nodes)"
   ]
  },
  {
   "cell_type": "code",
   "execution_count": null,
   "metadata": {},
   "outputs": [],
   "source": [
    "simulations_6_3 = run_simulation_batch(env3, num_agents, start_nodes, filepath, max_turns=max_turns)"
   ]
  },
  {
   "cell_type": "code",
   "execution_count": null,
   "metadata": {},
   "outputs": [],
   "source": [
    "no_swarm_env3 = next(simulations_6_3)"
   ]
  },
  {
   "cell_type": "code",
   "execution_count": null,
   "metadata": {},
   "outputs": [],
   "source": [
    "naive_swarm_env3 = next(simulations_6_3)"
   ]
  },
  {
   "cell_type": "code",
   "execution_count": null,
   "metadata": {},
   "outputs": [],
   "source": [
    "informed_mean_swarm_env3 = next(simulations_6_3)"
   ]
  },
  {
   "cell_type": "code",
   "execution_count": null,
   "metadata": {},
   "outputs": [],
   "source": [
    "informed_median_swarm_env3 = next(simulations_6_3)"
   ]
  },
  {
   "attachments": {},
   "cell_type": "markdown",
   "metadata": {},
   "source": [
    "# Analysis"
   ]
  },
  {
   "attachments": {},
   "cell_type": "markdown",
   "metadata": {},
   "source": [
    "### Dataframe/Results functions"
   ]
  },
  {
   "cell_type": "code",
   "execution_count": null,
   "metadata": {},
   "outputs": [],
   "source": [
    "from typing import List\n",
    "\n",
    "# Read the results from the simulations\n",
    "def read_results(simulations):\n",
    "    results = []\n",
    "    for sim in simulations:\n",
    "        start_node, path = sim\n",
    "        df = pd.read_csv(f\"{path}/results.csv\")\n",
    "        df['start_node'] = start_node\n",
    "        df.start_node = start_node\n",
    "        results.append(df)\n",
    "    return results\n",
    "            \n",
    "# Make the results into a single dataframe with turns as the columns and the data of interest as the rows\n",
    "def make_results_dataframe(results, data_of_interest):\n",
    "    df = pd.DataFrame()\n",
    "    # Get the data of interest\n",
    "    data = [result[['turn', data_of_interest, 'start_node']] for result in results]\n",
    "    # Make the turn number the columns\n",
    "    for result in data:\n",
    "        start_node = result.start_node.unique()[0]\n",
    "\n",
    "        result = result.T\n",
    "        result.columns = result.iloc[0].astype(int)\n",
    "        result = result.drop('turn')\n",
    "        \n",
    "        # Drop the start node row\n",
    "        result = result.drop('start_node')\n",
    "        # Add the start node to the dataframe\n",
    "        result['start_node'] = start_node\n",
    "        \n",
    "        if df.empty:\n",
    "            df = result\n",
    "        else:\n",
    "            df = pd.concat([df, result])\n",
    "            \n",
    "    # Check that each column that is a turn number has data of numeric type and if not, make it numeric (float)\n",
    "    for column in df.columns:\n",
    "        if column != 'start_node':\n",
    "            if not pd.api.types.is_numeric_dtype(df[column]):\n",
    "                df[column] = pd.to_numeric(df[column], errors='coerce')\n",
    "            \n",
    "    # Get the mean, min, max and standard deviation for each column\n",
    "    df.loc['mean'] = df.mean(numeric_only=True)\n",
    "    df.loc['min'] = df.min(numeric_only=True)\n",
    "    df.loc['max'] = df.max(numeric_only=True)\n",
    "    df.loc['std'] = df.std(numeric_only=True)\n",
    "            \n",
    "    return df\n",
    "\n",
    "# Get the results from the simulations and make them into a dataframe\n",
    "def get_results(simulations, data_of_interest):\n",
    "    results = read_results(simulations)\n",
    "    df = make_results_dataframe(results, data_of_interest)\n",
    "    return df\n",
    "\n",
    "# Get a list of dataframes with the results from the simulations for each environment\n",
    "def l_environment_dataframe(swarm_types:list, simulations:list):\n",
    "    experiment_dfs = []\n",
    "    for simulation in simulations:\n",
    "        df = read_results(simulation)\n",
    "        experiment_dfs.append(df)\n",
    "        \n",
    "    return experiment_dfs\n",
    "\n",
    "# Get a dataframe with the results from the simulations for each environment\n",
    "def environment_dataframe(swarm_types:list, simulations:list, data_of_interest):\n",
    "    experiment_dfs = []\n",
    "    for simulation in simulations:\n",
    "        df = get_results(simulation, data_of_interest)\n",
    "        experiment_dfs.append(df)\n",
    "    \n",
    "    dataframe = pd.DataFrame()\n",
    "    \n",
    "    for swarm_type, df in zip(swarm_types, experiment_dfs):\n",
    "        dataframe[f'{swarm_type}-mean'] = df.loc['mean']\n",
    "        dataframe[f'{swarm_type}-min'] = df.loc['min']\n",
    "        dataframe[f'{swarm_type}-max'] = df.loc['max']\n",
    "        dataframe[f'{swarm_type}-std'] = df.loc['std']\n",
    "        \n",
    "    # Drop any columns that are all NaN\n",
    "    dataframe = dataframe.dropna(axis=1, how='all')\n",
    "    # Drop any rows that are all NaN\n",
    "    dataframe = dataframe.dropna(axis=0, how='all')\n",
    "    \n",
    "    return dataframe\n",
    "\n",
    "def start_node_results_mean(swarm_types, sims):\n",
    "    results = pd.DataFrame()\n",
    "    \n",
    "    for swarm_type, sim in zip(swarm_types, sims):\n",
    "        for start_node, simulation_path in sim:\n",
    "            path = f'{simulation_path}/results.csv'\n",
    "            df = pd.read_csv(path)\n",
    "            df.start_node = start_node\n",
    "            # Get the mean pct_links_explored for the entire simulation run\n",
    "            mean_pct_links_explored = df.pct_links_explored.mean()\n",
    "            # Get the mean link_novelty_score for the entire simulation run\n",
    "            mean_link_novelty_score = df.link_novelty_score.mean()\n",
    "            # Add the mean values to the results dataframe for the given swarm type and start node\n",
    "            temp = pd.DataFrame({'swarm_type': swarm_type, 'start_node': start_node, 'mean_pct_links_explored': mean_pct_links_explored, 'mean_link_novelty_score': mean_link_novelty_score}, index=[0])\n",
    "            results = pd.concat([results, temp], ignore_index=True)\n",
    "            \n",
    "    return results\n",
    "\n",
    "def start_node_results_max(swarm_types, sims):\n",
    "    results = pd.DataFrame()\n",
    "    \n",
    "    for swarm_type, sim in zip(swarm_types, sims):\n",
    "        for start_node, simulation_path in sim:\n",
    "            path = f'{simulation_path}/results.csv'\n",
    "            df = pd.read_csv(path)\n",
    "            df.start_node = start_node\n",
    "            # get the max pct_links_explored for the entire simulation run\n",
    "            max_pct_links_explored = df.pct_links_explored.max()\n",
    "            # get the mean link_novelty_score for the entire simulation run\n",
    "            mean_link_novelty_score = df.link_novelty_score.mean()\n",
    "            # add the mean values to the results dataframe for the given swarm type and start node\n",
    "            temp = pd.DataFrame({'swarm_type': swarm_type, 'start_node': start_node, 'max_pct_links_explored': max_pct_links_explored, 'mean_link_novelty_score': mean_link_novelty_score}, index=[0])\n",
    "            results = pd.concat([results, temp], ignore_index=True)\n",
    "            \n",
    "    return results"
   ]
  },
  {
   "attachments": {},
   "cell_type": "markdown",
   "metadata": {},
   "source": [
    "### Plotting Functions"
   ]
  },
  {
   "cell_type": "code",
   "execution_count": null,
   "metadata": {},
   "outputs": [],
   "source": [
    "# Function to plot the error bars according to the min and max values\n",
    "def plot_errorbar_min_max(df, swarm_type, ax, color, label, errorevery):\n",
    "    ax.errorbar(\n",
    "        df.index,\n",
    "        df[f'{swarm_type}-mean'],\n",
    "        yerr=[df[f'{swarm_type}-mean'] - df[f'{swarm_type}-min'], df[f'{swarm_type}-max'] - df[f'{swarm_type}-mean']],\n",
    "        errorevery=errorevery,\n",
    "        label=label,\n",
    "        color=color,\n",
    "        capsize=5)\n",
    "\n",
    "# Function to plot the error bars according to the standard deviation\n",
    "def plot_errorbar_std(df, swarm_type, ax, color, label, errorevery):\n",
    "    ax.errorbar(\n",
    "        df.index,\n",
    "        df[f'{swarm_type}-mean'],\n",
    "        yerr=df[f'{swarm_type}-std'],\n",
    "        errorevery=errorevery,\n",
    "        color=color,\n",
    "        capsize=5\n",
    "    )\n",
    "    \n",
    "# Function to fill in the area between the error bars\n",
    "def fill_area_between_min_and_max(dataframe, swarm_type, ax, colour='lightblue', alpha=0.3):\n",
    "    x = dataframe.index.astype(int)\n",
    "    y1 = dataframe[f'{swarm_type}-min'].astype(float)\n",
    "    y2 = dataframe[f'{swarm_type}-max'].astype(float)\n",
    "        \n",
    "    ax.fill_between(x, y1, y2, color=colour, alpha=alpha)\n",
    " \n",
    "swarm_type_to_linestyle = {\n",
    "    'no-swarm': 'solid',\n",
    "    'naive': 'dashed',\n",
    "    'informed-mean': 'dotted',\n",
    "    'informed-median': 'dashdot'\n",
    "}\n",
    "    \n",
    "swarm_type_to_colour = {\n",
    "    'no-swarm': 'black',\n",
    "    'naive': 'red',\n",
    "    'informed-mean': 'blue',\n",
    "    'informed-median': 'green'\n",
    "}\n",
    "\n",
    "swarm_type_to_errorbar = {\n",
    "    'no-swarm': (0,10),\n",
    "    'naive': (3,10),\n",
    "    'informed-mean': (6,10),\n",
    "    'informed-median': (8,10)\n",
    "}\n",
    "\n",
    "# Plot the percentage of links explored by the swarm as a function of turns\n",
    "def plot_pct_explored_results(results, swarm_types, title, ylabel, xlabel='Turns', figsize=(10,10)):\n",
    "    # Set the figure size\n",
    "    plt.figure(figsize=figsize)\n",
    "    \n",
    "    # Plot the mean and standard deviation for each swarm type\n",
    "    for swarm_type in swarm_types:\n",
    "        linestyle = swarm_type_to_linestyle[swarm_type]\n",
    "        colour = swarm_type_to_colour[swarm_type]\n",
    "        errorevery = swarm_type_to_errorbar[swarm_type]\n",
    "\n",
    "        plt.plot(results[f'{swarm_type}-mean'], label=f'{swarm_type}-mean', color=colour, linestyle=linestyle)\n",
    "            \n",
    "        # fill_area_between_min_and_max(df, swarm_type, plt, colour=colour, alpha=0.15)\n",
    "        \n",
    "        \n",
    "        plot_errorbar_std(results, swarm_type, plt, colour, f'{swarm_type}-std', errorevery)\n",
    "        \n",
    "    plt.title(title)\n",
    "    plt.ylabel(ylabel)\n",
    "    plt.xlabel(xlabel)\n",
    "    plt.legend()\n",
    "    plt.show()\n",
    "    \n",
    "# Plot the link novelty as a function of turns\n",
    "def plot_link_novelty(results, swarm_types, title, ylabel, xlabel='Turns', figsize=(10,10)):\n",
    "    # Set the figure size\n",
    "    plt.figure(figsize=figsize)\n",
    "    \n",
    "    # Plot the mean and standard deviation for each swarm type\n",
    "    for swarm_type in swarm_types:\n",
    "        linestyle = swarm_type_to_linestyle[swarm_type]\n",
    "        colour = swarm_type_to_colour[swarm_type]\n",
    "        errorevery = swarm_type_to_errorbar[swarm_type]\n",
    "\n",
    "        plt.plot(results[f'{swarm_type}-mean'], label=f'{swarm_type}-mean', color=colour, linestyle=linestyle)\n",
    "            \n",
    "        # fill_area_between_min_and_max(df, swarm_type, plt, colour=colour, alpha=0.15)\n",
    "        \n",
    "        \n",
    "    plt.title(title)\n",
    "    plt.ylabel(ylabel)\n",
    "    plt.xlabel(xlabel)\n",
    "    plt.legend()\n",
    "    plt.show()"
   ]
  },
  {
   "attachments": {},
   "cell_type": "markdown",
   "metadata": {},
   "source": [
    "### Misc Functions/Variables"
   ]
  },
  {
   "cell_type": "code",
   "execution_count": null,
   "metadata": {},
   "outputs": [],
   "source": [
    "swarm_types = ['no-swarm', 'naive', 'informed-mean', 'informed-median']"
   ]
  },
  {
   "attachments": {},
   "cell_type": "markdown",
   "metadata": {},
   "source": [
    "## Analysis 6.1.1\n",
    "\n",
    "This analysis will focus on the results of the simulations in simulation 6.1. The results will be analysed to determine the effect of the swarm control strategy on the percentage of links explored by the agents in the network at each turn."
   ]
  },
  {
   "attachments": {},
   "cell_type": "markdown",
   "metadata": {},
   "source": [
    "### Results"
   ]
  },
  {
   "cell_type": "code",
   "execution_count": null,
   "metadata": {},
   "outputs": [],
   "source": [
    "sims = [no_swarm_env1, naive_swarm_env1, informed_mean_swarm_env1, informed_median_swarm_env1]\n",
    "results_6_1_1 = environment_dataframe(swarm_types, sims, 'pct_links_explored')\n",
    "results_6_1_1"
   ]
  },
  {
   "attachments": {},
   "cell_type": "markdown",
   "metadata": {},
   "source": [
    "### Graphs"
   ]
  },
  {
   "cell_type": "code",
   "execution_count": null,
   "metadata": {},
   "outputs": [],
   "source": [
    "# Plot the results for environment 1\n",
    "plot_pct_explored_results(results_6_1_1, swarm_types, 'Percentage Links Explored per Turn - Environment 1', 'Percentage of Links Explored')\n"
   ]
  },
  {
   "attachments": {},
   "cell_type": "markdown",
   "metadata": {},
   "source": [
    "## Analysis 6.1.2\n",
    "\n",
    "This analysis will focus on the results of the simulations in simulation 6.2. The results will be analysed to determine the effect of the swarm control strategy on the percentage of links explored by the agents in the network at each turn."
   ]
  },
  {
   "attachments": {},
   "cell_type": "markdown",
   "metadata": {},
   "source": [
    "### Results"
   ]
  },
  {
   "cell_type": "code",
   "execution_count": null,
   "metadata": {},
   "outputs": [],
   "source": [
    "sims = [no_swarm_env2, naive_swarm_env2, informed_mean_swarm_env2, informed_median_swarm_env2]\n",
    "results_6_1_2 = environment_dataframe(swarm_types, sims, 'pct_links_explored')\n",
    "results_6_1_2"
   ]
  },
  {
   "attachments": {},
   "cell_type": "markdown",
   "metadata": {},
   "source": [
    "### Graphs"
   ]
  },
  {
   "cell_type": "code",
   "execution_count": null,
   "metadata": {},
   "outputs": [],
   "source": [
    "# Plot the results for environment 2\n",
    "plot_pct_explored_results(results_6_1_2, swarm_types, 'Percentage Links Explored per Turn - Environment 2', 'Percentage of Links Explored')"
   ]
  },
  {
   "attachments": {},
   "cell_type": "markdown",
   "metadata": {},
   "source": [
    "## Analysis 6.1.3\n",
    "\n",
    "This analysis will focus on the results of the simulations in simulation 6.3. The results will be analysed to determine the effect of the swarm control strategy on the percentage of links explored by the agents in the network at each turn."
   ]
  },
  {
   "attachments": {},
   "cell_type": "markdown",
   "metadata": {},
   "source": [
    "### Results"
   ]
  },
  {
   "cell_type": "code",
   "execution_count": null,
   "metadata": {},
   "outputs": [],
   "source": [
    "sims = [no_swarm_env3, naive_swarm_env3, informed_mean_swarm_env3, informed_median_swarm_env3]\n",
    "results_6_1_3 = environment_dataframe(swarm_types, sims, 'pct_links_explored')\n",
    "results_6_1_3"
   ]
  },
  {
   "attachments": {},
   "cell_type": "markdown",
   "metadata": {},
   "source": [
    "### Graphs"
   ]
  },
  {
   "cell_type": "code",
   "execution_count": null,
   "metadata": {},
   "outputs": [],
   "source": [
    "# Plot the results for environment 3\n",
    "plot_pct_explored_results(results_6_1_3, swarm_types, 'Percentage Links Explored per Turn - Environment 3', 'Percentage of Links Explored')"
   ]
  },
  {
   "attachments": {},
   "cell_type": "markdown",
   "metadata": {},
   "source": [
    "## Analysis 6.2.1\n",
    "\n",
    "This analysis will focus on the results of the simulations in simulation 6.1. The results will be analysed to determine the effect of the swarm control strategy on the novelty of the links explored by the agents in the network at each turn."
   ]
  },
  {
   "attachments": {},
   "cell_type": "markdown",
   "metadata": {},
   "source": [
    "### Results"
   ]
  },
  {
   "cell_type": "code",
   "execution_count": null,
   "metadata": {},
   "outputs": [],
   "source": [
    "sims = [no_swarm_env1, naive_swarm_env1, informed_mean_swarm_env1, informed_median_swarm_env1]\n",
    "results_6_2_1 = environment_dataframe(swarm_types, sims, 'link_novelty_score')\n",
    "results_6_2_1"
   ]
  },
  {
   "attachments": {},
   "cell_type": "markdown",
   "metadata": {},
   "source": [
    "### Graphs"
   ]
  },
  {
   "cell_type": "code",
   "execution_count": null,
   "metadata": {},
   "outputs": [],
   "source": [
    "# Plot the results for environment 1\n",
    "plot_link_novelty(results_6_2_1, swarm_types, 'Link Novelty Score per Turn - Environment 1', 'Link Novelty Score')"
   ]
  },
  {
   "attachments": {},
   "cell_type": "markdown",
   "metadata": {},
   "source": [
    "## Analysis 6.2.2\n",
    "\n",
    "This analysis will focus on the results of the simulations in simulation 6.2. The results will be analysed to determine the effect of the swarm control strategy on the novelty of the links explored by the agents in the network at each turn."
   ]
  },
  {
   "attachments": {},
   "cell_type": "markdown",
   "metadata": {},
   "source": [
    "### Results"
   ]
  },
  {
   "cell_type": "code",
   "execution_count": null,
   "metadata": {},
   "outputs": [],
   "source": [
    "sims = [no_swarm_env2, naive_swarm_env2, informed_mean_swarm_env2, informed_median_swarm_env2]\n",
    "results_6_2_2 = environment_dataframe(swarm_types, sims, 'link_novelty_score')\n",
    "results_6_2_2"
   ]
  },
  {
   "attachments": {},
   "cell_type": "markdown",
   "metadata": {},
   "source": [
    "### Graphs"
   ]
  },
  {
   "cell_type": "code",
   "execution_count": null,
   "metadata": {},
   "outputs": [],
   "source": [
    "# Plot the results for environment 2\n",
    "plot_link_novelty(results_6_2_2, swarm_types, 'Link Novelty Score per Turn - Environment 2', 'Link Novelty Score')"
   ]
  },
  {
   "attachments": {},
   "cell_type": "markdown",
   "metadata": {},
   "source": [
    "## Analysis 6.2.3\n",
    "\n",
    "This analysis will focus on the results of the simulations in simulation 6.3. The results will be analysed to determine the effect of the swarm control strategy on the novelty of the links explored by the agents in the network at each turn."
   ]
  },
  {
   "attachments": {},
   "cell_type": "markdown",
   "metadata": {},
   "source": [
    "### Results"
   ]
  },
  {
   "cell_type": "code",
   "execution_count": null,
   "metadata": {},
   "outputs": [],
   "source": [
    "sims = [no_swarm_env3, naive_swarm_env3, informed_mean_swarm_env3, informed_median_swarm_env3]\n",
    "results_6_2_3 = environment_dataframe(swarm_types, sims, 'link_novelty_score')\n",
    "results_6_2_3"
   ]
  },
  {
   "attachments": {},
   "cell_type": "markdown",
   "metadata": {},
   "source": [
    "### Graphs"
   ]
  },
  {
   "cell_type": "code",
   "execution_count": null,
   "metadata": {},
   "outputs": [],
   "source": [
    "# Plot the results for environment 3\n",
    "plot_link_novelty(results_6_2_3, swarm_types, 'Link Novelty Score per Turn - Environment 3', 'Link Novelty Score')"
   ]
  },
  {
   "attachments": {},
   "cell_type": "markdown",
   "metadata": {},
   "source": [
    "## Analysis 6.3.1\n",
    "\n",
    "This analysis will focus on the results of the simulations in simulation 6.1. The results will be analysed to determine the effect of the swarm control strategy on the stability of the control strategy with respect to the starting position of the agents in the network."
   ]
  },
  {
   "attachments": {},
   "cell_type": "markdown",
   "metadata": {},
   "source": [
    "### Results"
   ]
  },
  {
   "cell_type": "code",
   "execution_count": null,
   "metadata": {},
   "outputs": [],
   "source": [
    "sims = [no_swarm_env1, naive_swarm_env1, informed_mean_swarm_env1, informed_median_swarm_env1]\n",
    "results_6_3_1 = start_node_results_mean(swarm_types, sims)\n",
    "results_6_3_1.sample(10)"
   ]
  },
  {
   "cell_type": "code",
   "execution_count": null,
   "metadata": {},
   "outputs": [],
   "source": [
    "# Test if the correlation between start node and mean pct_links_explored is significant\n",
    "results_6_3_1.groupby('start_node').mean_pct_links_explored.agg(['mean', 'std', 'count'])"
   ]
  },
  {
   "attachments": {},
   "cell_type": "markdown",
   "metadata": {},
   "source": [
    "### Graphs"
   ]
  },
  {
   "cell_type": "code",
   "execution_count": null,
   "metadata": {},
   "outputs": [],
   "source": [
    "fig, ax = plt.subplots(figsize=(10, 6))\n",
    "sns.boxplot(x='swarm_type', y='mean_pct_links_explored', data=results_6_3_1, ax=ax)\n",
    "ax.set_title('Mean Percentage Links Explored per Swarm Type (all Start Nodes) - Environment 1')\n",
    "ax.set_xlabel('Swarm Type')\n",
    "ax.set_ylabel('Mean Percentage Links Explored (calculated across all turns)')\n",
    "ax.grid(True, axis='y', alpha=0.5, linestyle='--')\n"
   ]
  },
  {
   "attachments": {},
   "cell_type": "markdown",
   "metadata": {},
   "source": [
    "## Analysis 6.3.2\n",
    "\n",
    "This analysis will focus on the results of the simulations in simulation 6.2. The results will be analysed to determine the effect of the swarm control strategy on the stability of the control strategy with respect to the starting position of the agents in the network."
   ]
  },
  {
   "attachments": {},
   "cell_type": "markdown",
   "metadata": {},
   "source": [
    "### Results"
   ]
  },
  {
   "cell_type": "code",
   "execution_count": null,
   "metadata": {},
   "outputs": [],
   "source": [
    "sims = [no_swarm_env2, naive_swarm_env2, informed_mean_swarm_env2, informed_median_swarm_env2]\n",
    "results_6_3_2 = start_node_results_mean(swarm_types, sims)\n",
    "results_6_3_2.sample(10)"
   ]
  },
  {
   "cell_type": "code",
   "execution_count": null,
   "metadata": {},
   "outputs": [],
   "source": [
    "# Test if the correlation between start node and mean pct_links_explored is significant\n",
    "results_6_3_2.groupby('start_node').mean_pct_links_explored.agg(['mean', 'std', 'count'])"
   ]
  },
  {
   "attachments": {},
   "cell_type": "markdown",
   "metadata": {},
   "source": [
    "### Graphs"
   ]
  },
  {
   "cell_type": "code",
   "execution_count": null,
   "metadata": {},
   "outputs": [],
   "source": [
    "fig, ax = plt.subplots(figsize=(10, 6))\n",
    "sns.boxplot(x='swarm_type', y='mean_pct_links_explored', data=results_6_3_2, ax=ax)\n",
    "ax.set_title('Mean Percentage Links Explored per Swarm Type (all Start Nodes) - Environment 2')\n",
    "ax.set_xlabel('Swarm Type')\n",
    "ax.set_ylabel('Mean Percentage Links Explored (calculated across all turns)')\n",
    "ax.grid(True, axis='y', alpha=0.5, linestyle='--')"
   ]
  },
  {
   "attachments": {},
   "cell_type": "markdown",
   "metadata": {},
   "source": [
    "## Analysis 6.3.3\n",
    "\n",
    "This analysis will focus on the results of the simulations in simulation 6.3. The results will be analysed to determine the effect of the swarm control strategy on the stability of the control strategy with respect to the starting position of the agents in the network."
   ]
  },
  {
   "attachments": {},
   "cell_type": "markdown",
   "metadata": {},
   "source": [
    "### Results"
   ]
  },
  {
   "cell_type": "code",
   "execution_count": null,
   "metadata": {},
   "outputs": [],
   "source": [
    "sims = [no_swarm_env3, naive_swarm_env3, informed_mean_swarm_env3, informed_median_swarm_env3]\n",
    "results_6_3_3 = start_node_results_mean(swarm_types, sims)\n",
    "results_6_3_3.sample(10)"
   ]
  },
  {
   "cell_type": "code",
   "execution_count": null,
   "metadata": {},
   "outputs": [],
   "source": [
    "# Test if the correlation between start node and mean pct_links_explored is significant\n",
    "results_6_3_3.groupby('start_node').mean_pct_links_explored.agg(['mean', 'std', 'count'])"
   ]
  },
  {
   "attachments": {},
   "cell_type": "markdown",
   "metadata": {},
   "source": [
    "### Graphs"
   ]
  },
  {
   "cell_type": "code",
   "execution_count": null,
   "metadata": {},
   "outputs": [],
   "source": [
    "fig, ax = plt.subplots(figsize=(10, 6))\n",
    "sns.boxplot(x='swarm_type', y='mean_pct_links_explored', data=results_6_3_3, ax=ax)\n",
    "ax.set_title('Mean Percentage Links Explored per Swarm Type (all Start Nodes) - Environment 3')\n",
    "ax.set_xlabel('Swarm Type')\n",
    "ax.set_ylabel('Mean Percentage Links Explored (calculated across all turns)')\n",
    "ax.grid(True, axis='y', alpha=0.5, linestyle='--')"
   ]
  },
  {
   "cell_type": "code",
   "execution_count": null,
   "metadata": {},
   "outputs": [],
   "source": [
    "swarm_types = ['no-swarm', 'naive', 'informed-mean', 'informed-median']\n",
    "sims = [no_swarm_env1, naive_swarm_env1, informed_mean_swarm_env1, informed_median_swarm_env1]\n",
    "\n",
    "resultsq = pd.DataFrame()\n",
    "\n",
    "for swarm_type, sim in zip(swarm_types, sims):\n",
    "    for start_node, simulation_path in sim:\n",
    "        path = f'{simulation_path}/results.csv'\n",
    "        df = pd.read_csv(path)\n",
    "        df.start_node = start_node\n",
    "        # get the max pct_links_explored for the entire simulation run\n",
    "        max_pct_links_explored = df.pct_links_explored.max()\n",
    "        # get the mean link_novelty_score for the entire simulation run\n",
    "        mean_link_novelty_score = df.link_novelty_score.mean()\n",
    "        # add the mean values to the results dataframe for the given swarm type and start node\n",
    "        temp = pd.DataFrame({'swarm_type': swarm_type, 'start_node': start_node, 'max_pct_links_explored': max_pct_links_explored, 'mean_link_novelty_score': mean_link_novelty_score}, index=[0])\n",
    "        resultsq = pd.concat([resultsq, temp], ignore_index=True)\n",
    "        \n",
    "resultsq.sample(10)"
   ]
  },
  {
   "cell_type": "code",
   "execution_count": null,
   "metadata": {},
   "outputs": [],
   "source": [
    "# get the mean max_pct_links_explored for each swarm type and the standard deviation\n",
    "resultsq.groupby('swarm_type').max_pct_links_explored.agg(['mean', 'std', 'count'])"
   ]
  },
  {
   "cell_type": "code",
   "execution_count": null,
   "metadata": {},
   "outputs": [],
   "source": [
    "# plot the mean max_pct_links_explored for each swarm type as a box plot\n",
    "fig, ax = plt.subplots(figsize=(10, 6))\n",
    "sns.boxplot(x='swarm_type', y='max_pct_links_explored', data=resultsq, ax=ax)"
   ]
  },
  {
   "cell_type": "code",
   "execution_count": null,
   "metadata": {},
   "outputs": [],
   "source": [
    "sims = [no_swarm_env1, naive_swarm_env1, informed_mean_swarm_env1, informed_median_swarm_env1]\n",
    "resultsz = start_node_results_max(swarm_types, sims)\n",
    "\n",
    "# get the mean max_pct_links_explored for each swarm type and the standard deviation\n",
    "resultsz.groupby('swarm_type').max_pct_links_explored.agg(['mean', 'std', 'count'])"
   ]
  }
 ],
 "metadata": {
  "kernelspec": {
   "display_name": "env",
   "language": "python",
   "name": "python3"
  },
  "language_info": {
   "codemirror_mode": {
    "name": "ipython",
    "version": 3
   },
   "file_extension": ".py",
   "mimetype": "text/x-python",
   "name": "python",
   "nbconvert_exporter": "python",
   "pygments_lexer": "ipython3",
   "version": "3.8.10"
  },
  "orig_nbformat": 4,
  "vscode": {
   "interpreter": {
    "hash": "e808d02acbd2d073836d788d0dc59c920cc6a491208512d43977593850918a88"
   }
  }
 },
 "nbformat": 4,
 "nbformat_minor": 2
}
